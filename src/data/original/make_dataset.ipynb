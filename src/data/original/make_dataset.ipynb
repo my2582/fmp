{
 "cells": [
  {
   "cell_type": "code",
   "execution_count": 1,
   "metadata": {
    "ExecuteTime": {
     "end_time": "2020-04-27T06:31:52.394581Z",
     "start_time": "2020-04-27T06:31:40.776710Z"
    }
   },
   "outputs": [],
   "source": [
    "import numpy as np\n",
    "import pandas as pd\n",
    "\n",
    "import matplotlib.pyplot as plt\n",
    "\n",
    "# to access public datasets from the knoema.com\n",
    "import knoema\n",
    "\n",
    "import bamboolib"
   ]
  },
  {
   "cell_type": "markdown",
   "metadata": {},
   "source": [
    "# 0. Theoretical background"
   ]
  },
  {
   "cell_type": "markdown",
   "metadata": {},
   "source": [
    "$$r_t^{eqy} = E[r_t^{eqy}] + \\beta_1^{eqy} INFL_t+\\beta_2^{eqy} GR_t+ \\beta_3^{eqy} FS_t + \\alpha_t^{eqy}$$\n",
    "$$r_t^{ust} = E[r_t^{ust}] + \\beta_1^{ust} INFL_t+\\beta_2^{ust} GR_t+ \\beta_3^{ust} FS_t + \\alpha_t^{ust}$$\n",
    "$$\\vdots$$\n",
    "$$r_t^{fxcs} = E[r_t^{fxcs}] + \\beta_1^{fxcs} INFL_t+\\beta_2^{fxcs} GR_t+ \\beta_3^{fxcs} FS_t + \\alpha_t^{fxcs}$$"
   ]
  },
  {
   "cell_type": "markdown",
   "metadata": {},
   "source": [
    ", where\n",
    "- $INFL_t$ stands for an *inflation* macro-factor return at time t. Likewise, $GR$ for *growth* and $FS$ for *finantial stress* factors.\n",
    "- $r_t^{eqy}$ is an *excess* return of global equity markets at time t as one of the base assets. T-Bill 1M is used for the excess return calculation. A risk free return such as $r_f$ is omiited for simplicity.\n",
    "  - $ust$ stands for U.S 10Yr Treasury, and the rest of notation should be the same as that of $eqy$. The same naming rule applies for the rest of base assets in denoting $r_t^{asset}$.\n",
    "  - A full list of base assets used in this model : Equities($eqy$), Treasuries($ust$), Credit($cre$), Inflation-Linked Bonds($ilb$), Gold(gold), Industrial Metals($inm$), Energy commodity($eng$), U.S. Dollar($dxy$), Commodity vs safe haven currencies ($fxcs$). Abbreviations in ().\n",
    "- $E[\\cdot]$ is an expected excess return.\n",
    "- $\\beta_{\\#}^{instrument}$ is a factor beta, or factor loading, for that $instrument$. This value is the **same across all periods** of time being modeled. Therefore, there is no subscript $t$. Instead, we have a digit subscript 1 for $INFL$ beta, 2 for $GR$ beta and 3 for $FS$ beta.\n",
    "  - e.g. $\\beta_1^{eqy}$ is a sensitivy of Equities to $INFL$ factor.\n",
    "- $E[\\alpha^{asset}] = 0$ for all periods of time being modeled."
   ]
  },
  {
   "cell_type": "code",
   "execution_count": null,
   "metadata": {},
   "outputs": [],
   "source": []
  },
  {
   "cell_type": "markdown",
   "metadata": {},
   "source": [
    "# 1. Load datasets"
   ]
  },
  {
   "cell_type": "markdown",
   "metadata": {},
   "source": [
    "#### Set data frequency"
   ]
  },
  {
   "cell_type": "code",
   "execution_count": 2,
   "metadata": {
    "ExecuteTime": {
     "end_time": "2020-04-27T06:31:52.400566Z",
     "start_time": "2020-04-27T06:31:52.396577Z"
    }
   },
   "outputs": [],
   "source": [
    "_freq = 'M'"
   ]
  },
  {
   "cell_type": "markdown",
   "metadata": {},
   "source": [
    "#### From Bloomberg (bbg)\n",
    "- For data of more recent years."
   ]
  },
  {
   "cell_type": "code",
   "execution_count": 3,
   "metadata": {
    "ExecuteTime": {
     "end_time": "2020-04-27T06:31:52.526228Z",
     "start_time": "2020-04-27T06:31:52.402560Z"
    }
   },
   "outputs": [],
   "source": [
    "bbg_filename = '../../data/raw/base_assets_price_bbg_M.log'\n",
    "\n",
    "df_bbg = pd.read_csv(bbg_filename, header=2, parse_dates=['date'])\n",
    "df_bbg = df_bbg.set_index(['date'], drop=True)"
   ]
  },
  {
   "cell_type": "code",
   "execution_count": 4,
   "metadata": {
    "ExecuteTime": {
     "end_time": "2020-04-27T06:31:53.074793Z",
     "start_time": "2020-04-27T06:31:52.528223Z"
    }
   },
   "outputs": [
    {
     "data": {
      "application/vnd.jupyter.widget-view+json": {
       "model_id": "4cddeefc59754569b5e9c2d55b1c7d2b"
      },
      "text/html": [
       "<div>\n",
       "<style scoped>\n",
       "    .dataframe tbody tr th:only-of-type {\n",
       "        vertical-align: middle;\n",
       "    }\n",
       "\n",
       "    .dataframe tbody tr th {\n",
       "        vertical-align: top;\n",
       "    }\n",
       "\n",
       "    .dataframe thead th {\n",
       "        text-align: right;\n",
       "    }\n",
       "</style>\n",
       "<table border=\"1\" class=\"dataframe\">\n",
       "  <thead>\n",
       "    <tr style=\"text-align: right;\">\n",
       "      <th></th>\n",
       "      <th>DMEQ_idx</th>\n",
       "      <th>GLT_idx</th>\n",
       "      <th>CRE_Baa_idx</th>\n",
       "      <th>CRE_Aaa_idx</th>\n",
       "      <th>TIPS_idx</th>\n",
       "      <th>GOLD_pr</th>\n",
       "      <th>INM_idx</th>\n",
       "      <th>ENGY_idx</th>\n",
       "      <th>DXY_idx</th>\n",
       "      <th>USDCAD_rate</th>\n",
       "      <th>USDNOK_rate</th>\n",
       "      <th>AUDUSD_rate</th>\n",
       "      <th>USDJPY_rate</th>\n",
       "      <th>USDCHF_rate</th>\n",
       "      <th>TBILL3M_idx</th>\n",
       "      <th>EMEQ_idx</th>\n",
       "      <th>ACEQ_idx</th>\n",
       "    </tr>\n",
       "    <tr>\n",
       "      <th>date</th>\n",
       "      <th></th>\n",
       "      <th></th>\n",
       "      <th></th>\n",
       "      <th></th>\n",
       "      <th></th>\n",
       "      <th></th>\n",
       "      <th></th>\n",
       "      <th></th>\n",
       "      <th></th>\n",
       "      <th></th>\n",
       "      <th></th>\n",
       "      <th></th>\n",
       "      <th></th>\n",
       "      <th></th>\n",
       "      <th></th>\n",
       "      <th></th>\n",
       "      <th></th>\n",
       "    </tr>\n",
       "  </thead>\n",
       "  <tbody>\n",
       "    <tr>\n",
       "      <th>2019-11-29</th>\n",
       "      <td>2292.26</td>\n",
       "      <td>2383.16</td>\n",
       "      <td>4206.804</td>\n",
       "      <td>2246.016</td>\n",
       "      <td>316.2039</td>\n",
       "      <td>1463.98</td>\n",
       "      <td>314.60</td>\n",
       "      <td>190.0800</td>\n",
       "      <td>98.273</td>\n",
       "      <td>1.3282</td>\n",
       "      <td>9.2248</td>\n",
       "      <td>0.6763</td>\n",
       "      <td>109.49</td>\n",
       "      <td>1.0002</td>\n",
       "      <td>1.5672</td>\n",
       "      <td>1040.05</td>\n",
       "      <td>546.70</td>\n",
       "    </tr>\n",
       "    <tr>\n",
       "      <th>2019-12-31</th>\n",
       "      <td>2358.47</td>\n",
       "      <td>2369.78</td>\n",
       "      <td>4233.494</td>\n",
       "      <td>2244.171</td>\n",
       "      <td>317.4027</td>\n",
       "      <td>1517.27</td>\n",
       "      <td>324.21</td>\n",
       "      <td>206.6327</td>\n",
       "      <td>96.389</td>\n",
       "      <td>1.2990</td>\n",
       "      <td>8.7855</td>\n",
       "      <td>0.7021</td>\n",
       "      <td>108.61</td>\n",
       "      <td>0.9666</td>\n",
       "      <td>1.5436</td>\n",
       "      <td>1114.66</td>\n",
       "      <td>565.24</td>\n",
       "    </tr>\n",
       "    <tr>\n",
       "      <th>2020-01-31</th>\n",
       "      <td>2342.41</td>\n",
       "      <td>2427.69</td>\n",
       "      <td>4332.237</td>\n",
       "      <td>2281.815</td>\n",
       "      <td>324.0671</td>\n",
       "      <td>1589.16</td>\n",
       "      <td>301.55</td>\n",
       "      <td>174.8693</td>\n",
       "      <td>97.390</td>\n",
       "      <td>1.3237</td>\n",
       "      <td>9.2011</td>\n",
       "      <td>0.6692</td>\n",
       "      <td>108.35</td>\n",
       "      <td>0.9634</td>\n",
       "      <td>1.5382</td>\n",
       "      <td>1062.34</td>\n",
       "      <td>558.62</td>\n",
       "    </tr>\n",
       "    <tr>\n",
       "      <th>2020-02-28</th>\n",
       "      <td>2141.12</td>\n",
       "      <td>2492.04</td>\n",
       "      <td>4372.826</td>\n",
       "      <td>2320.946</td>\n",
       "      <td>328.5524</td>\n",
       "      <td>1585.69</td>\n",
       "      <td>298.11</td>\n",
       "      <td>154.7120</td>\n",
       "      <td>98.132</td>\n",
       "      <td>1.3407</td>\n",
       "      <td>9.3939</td>\n",
       "      <td>0.6515</td>\n",
       "      <td>107.89</td>\n",
       "      <td>0.9649</td>\n",
       "      <td>1.2670</td>\n",
       "      <td>1005.52</td>\n",
       "      <td>512.76</td>\n",
       "    </tr>\n",
       "    <tr>\n",
       "      <th>2020-03-31</th>\n",
       "      <td>1852.73</td>\n",
       "      <td>2564.12</td>\n",
       "      <td>3920.704</td>\n",
       "      <td>2333.130</td>\n",
       "      <td>322.7761</td>\n",
       "      <td>1577.18</td>\n",
       "      <td>267.86</td>\n",
       "      <td>82.0629</td>\n",
       "      <td>99.048</td>\n",
       "      <td>1.4062</td>\n",
       "      <td>10.4028</td>\n",
       "      <td>0.6131</td>\n",
       "      <td>107.54</td>\n",
       "      <td>0.9611</td>\n",
       "      <td>0.0610</td>\n",
       "      <td>848.58</td>\n",
       "      <td>442.35</td>\n",
       "    </tr>\n",
       "  </tbody>\n",
       "</table>\n",
       "</div>"
      ],
      "text/plain": [
       "            DMEQ_idx  GLT_idx  CRE_Baa_idx  CRE_Aaa_idx  TIPS_idx  GOLD_pr  \\\n",
       "date                                                                         \n",
       "2019-11-29   2292.26  2383.16     4206.804     2246.016  316.2039  1463.98   \n",
       "2019-12-31   2358.47  2369.78     4233.494     2244.171  317.4027  1517.27   \n",
       "2020-01-31   2342.41  2427.69     4332.237     2281.815  324.0671  1589.16   \n",
       "2020-02-28   2141.12  2492.04     4372.826     2320.946  328.5524  1585.69   \n",
       "2020-03-31   1852.73  2564.12     3920.704     2333.130  322.7761  1577.18   \n",
       "\n",
       "            INM_idx  ENGY_idx  DXY_idx  USDCAD_rate  USDNOK_rate  AUDUSD_rate  \\\n",
       "date                                                                            \n",
       "2019-11-29   314.60  190.0800   98.273       1.3282       9.2248       0.6763   \n",
       "2019-12-31   324.21  206.6327   96.389       1.2990       8.7855       0.7021   \n",
       "2020-01-31   301.55  174.8693   97.390       1.3237       9.2011       0.6692   \n",
       "2020-02-28   298.11  154.7120   98.132       1.3407       9.3939       0.6515   \n",
       "2020-03-31   267.86   82.0629   99.048       1.4062      10.4028       0.6131   \n",
       "\n",
       "            USDJPY_rate  USDCHF_rate  TBILL3M_idx  EMEQ_idx  ACEQ_idx  \n",
       "date                                                                   \n",
       "2019-11-29       109.49       1.0002       1.5672   1040.05    546.70  \n",
       "2019-12-31       108.61       0.9666       1.5436   1114.66    565.24  \n",
       "2020-01-31       108.35       0.9634       1.5382   1062.34    558.62  \n",
       "2020-02-28       107.89       0.9649       1.2670   1005.52    512.76  \n",
       "2020-03-31       107.54       0.9611       0.0610    848.58    442.35  "
      ]
     },
     "metadata": {},
     "output_type": "display_data"
    }
   ],
   "source": [
    "df_bbg.tail()"
   ]
  },
  {
   "cell_type": "markdown",
   "metadata": {},
   "source": [
    "#### From Global Financial Data (gfd)\n",
    "- For data of older years; since 1850."
   ]
  },
  {
   "cell_type": "code",
   "execution_count": 5,
   "metadata": {
    "ExecuteTime": {
     "end_time": "2020-04-27T06:31:53.163520Z",
     "start_time": "2020-04-27T06:31:53.076754Z"
    }
   },
   "outputs": [],
   "source": [
    "gfd_filename = '../../data/raw/base_assets_price_gfd_M.log'\n",
    "\n",
    "df_gfd = pd.read_csv(gfd_filename, header=0, parse_dates=['Date'])\n",
    "df_gfd = df_gfd.rename(columns={'CHFUSD': 'CHFUSD_rate', 'GBPUSD':'GBPUSD_rate'})"
   ]
  },
  {
   "cell_type": "code",
   "execution_count": 6,
   "metadata": {
    "ExecuteTime": {
     "end_time": "2020-04-27T06:31:53.259289Z",
     "start_time": "2020-04-27T06:31:53.164518Z"
    }
   },
   "outputs": [
    {
     "data": {
      "application/vnd.jupyter.widget-view+json": {
       "model_id": "34f2577073774b0da184b279540320df"
      },
      "text/html": [
       "<div>\n",
       "<style scoped>\n",
       "    .dataframe tbody tr th:only-of-type {\n",
       "        vertical-align: middle;\n",
       "    }\n",
       "\n",
       "    .dataframe tbody tr th {\n",
       "        vertical-align: top;\n",
       "    }\n",
       "\n",
       "    .dataframe thead th {\n",
       "        text-align: right;\n",
       "    }\n",
       "</style>\n",
       "<table border=\"1\" class=\"dataframe\">\n",
       "  <thead>\n",
       "    <tr style=\"text-align: right;\">\n",
       "      <th></th>\n",
       "      <th>Date</th>\n",
       "      <th>Ticker</th>\n",
       "      <th>Close</th>\n",
       "    </tr>\n",
       "  </thead>\n",
       "  <tbody>\n",
       "    <tr>\n",
       "      <th>38794</th>\n",
       "      <td>2019-12-31</td>\n",
       "      <td>USDSEK</td>\n",
       "      <td>9.3620</td>\n",
       "    </tr>\n",
       "    <tr>\n",
       "      <th>38795</th>\n",
       "      <td>2020-01-31</td>\n",
       "      <td>USDSEK</td>\n",
       "      <td>9.6261</td>\n",
       "    </tr>\n",
       "    <tr>\n",
       "      <th>38796</th>\n",
       "      <td>2020-02-29</td>\n",
       "      <td>USDSEK</td>\n",
       "      <td>9.5959</td>\n",
       "    </tr>\n",
       "    <tr>\n",
       "      <th>38797</th>\n",
       "      <td>2020-03-31</td>\n",
       "      <td>USDSEK</td>\n",
       "      <td>9.9096</td>\n",
       "    </tr>\n",
       "    <tr>\n",
       "      <th>38798</th>\n",
       "      <td>2020-04-30</td>\n",
       "      <td>USDSEK</td>\n",
       "      <td>9.9367</td>\n",
       "    </tr>\n",
       "  </tbody>\n",
       "</table>\n",
       "</div>"
      ],
      "text/plain": [
       "            Date  Ticker   Close\n",
       "38794 2019-12-31  USDSEK  9.3620\n",
       "38795 2020-01-31  USDSEK  9.6261\n",
       "38796 2020-02-29  USDSEK  9.5959\n",
       "38797 2020-03-31  USDSEK  9.9096\n",
       "38798 2020-04-30  USDSEK  9.9367"
      ]
     },
     "metadata": {},
     "output_type": "display_data"
    }
   ],
   "source": [
    "df_gfd.tail()"
   ]
  },
  {
   "cell_type": "markdown",
   "metadata": {
    "ExecuteTime": {
     "end_time": "2020-04-10T06:46:19.338675Z",
     "start_time": "2020-04-10T06:46:19.333688Z"
    }
   },
   "source": [
    "We pivot this table."
   ]
  },
  {
   "cell_type": "code",
   "execution_count": 7,
   "metadata": {
    "ExecuteTime": {
     "end_time": "2020-04-27T06:31:53.340050Z",
     "start_time": "2020-04-27T06:31:53.265254Z"
    }
   },
   "outputs": [],
   "source": [
    "df_gfd = pd.pivot_table(df_gfd, index=['Date'], columns=['Ticker'])\n",
    "\n",
    "# Drop one of the top multi-index column, namely, \"Close\"\n",
    "df_gfd.columns = df_gfd.columns.droplevel(0)"
   ]
  },
  {
   "cell_type": "markdown",
   "metadata": {
    "ExecuteTime": {
     "end_time": "2020-04-13T05:05:20.803647Z",
     "start_time": "2020-04-13T05:05:20.797664Z"
    }
   },
   "source": [
    "Add a prefix `_rate` to an FX rate column name."
   ]
  },
  {
   "cell_type": "code",
   "execution_count": 8,
   "metadata": {
    "ExecuteTime": {
     "end_time": "2020-04-27T06:31:53.349024Z",
     "start_time": "2020-04-27T06:31:53.344038Z"
    }
   },
   "outputs": [],
   "source": [
    "df_gfd.columns = [col + \"_rate\" if col.find(\"USD\") >= 0 else col for col in df_gfd.columns]"
   ]
  },
  {
   "cell_type": "markdown",
   "metadata": {},
   "source": [
    "#### From survey data (sv)\n",
    "- For the U.S. forecasted inflation by professionals:\n",
    "  - U.S. Survey of Professional Forecasters, `df_spf`: https://www.philadelphiafed.org/-/media/research-and-data/real-time-center/survey-of-professional-forecasters/historical-data/inflation.xlsx?la=en\n",
    "  - Livingston Survey, `df_lv`: https://www.philadelphiafed.org/-/media/research-and-data/real-time-center/survey-of-professional-forecasters/historical-data/additional-cpie10.xlsx?la=en\n",
    "  - See: page #37 at https://www.philadelphiafed.org/-/media/research-and-data/real-time-center/survey-of-professional-forecasters/spf-documentation.pdf?la=en"
   ]
  },
  {
   "cell_type": "code",
   "execution_count": 9,
   "metadata": {
    "ExecuteTime": {
     "end_time": "2020-04-27T06:31:53.379941Z",
     "start_time": "2020-04-27T06:31:53.352016Z"
    }
   },
   "outputs": [],
   "source": [
    "spf_filename = '../../data/raw/survey_of_professionals.log'\n",
    "\n",
    "df_spf = pd.read_csv(spf_filename, header=0)\n",
    "df_spf['date'] = pd.to_datetime({\n",
    "                    'year': df_spf.YEAR,\n",
    "                    'month': df_spf.QUARTER * 3,\n",
    "                    'day': 1\n",
    "                })\n",
    "df_spf = df_spf.set_index(keys='date')"
   ]
  },
  {
   "cell_type": "code",
   "execution_count": 10,
   "metadata": {
    "ExecuteTime": {
     "end_time": "2020-04-27T06:31:53.393904Z",
     "start_time": "2020-04-27T06:31:53.381936Z"
    }
   },
   "outputs": [],
   "source": [
    "df_lv_filename = '../../data/raw/survey_of_livingston.log'\n",
    "\n",
    "df_lv = pd.read_csv(df_lv_filename, header=13)"
   ]
  },
  {
   "cell_type": "markdown",
   "metadata": {},
   "source": [
    "# 2. Preprocessing"
   ]
  },
  {
   "cell_type": "markdown",
   "metadata": {},
   "source": [
    "## 1) Merge two datasets, `df_gfd` and `df_bbg`\n",
    "- Changing `date` formats to properly join"
   ]
  },
  {
   "cell_type": "code",
   "execution_count": 11,
   "metadata": {
    "ExecuteTime": {
     "end_time": "2020-04-27T06:31:53.403877Z",
     "start_time": "2020-04-27T06:31:53.396895Z"
    }
   },
   "outputs": [
    {
     "data": {
      "text/plain": [
       "DatetimeIndex(['1850-01-31', '1850-02-28', '1850-03-31', '1850-04-30',\n",
       "               '1850-05-31', '1850-06-30', '1850-07-31', '1850-08-31',\n",
       "               '1850-09-30', '1850-10-31',\n",
       "               ...\n",
       "               '2019-07-31', '2019-08-31', '2019-09-30', '2019-10-31',\n",
       "               '2019-11-30', '2019-12-31', '2020-01-31', '2020-02-29',\n",
       "               '2020-03-31', '2020-04-30'],\n",
       "              dtype='datetime64[ns]', name='Date', length=2044, freq=None)"
      ]
     },
     "execution_count": 11,
     "metadata": {},
     "output_type": "execute_result"
    }
   ],
   "source": [
    "df_gfd.index"
   ]
  },
  {
   "cell_type": "code",
   "execution_count": 12,
   "metadata": {
    "ExecuteTime": {
     "end_time": "2020-04-27T06:31:53.412854Z",
     "start_time": "2020-04-27T06:31:53.406869Z"
    }
   },
   "outputs": [
    {
     "data": {
      "text/plain": [
       "DatetimeIndex(['1959-12-31', '1960-01-29', '1960-02-29', '1960-03-31',\n",
       "               '1960-04-29', '1960-05-31', '1960-06-30', '1960-07-29',\n",
       "               '1960-08-31', '1960-09-30',\n",
       "               ...\n",
       "               '2019-06-28', '2019-07-31', '2019-08-30', '2019-09-30',\n",
       "               '2019-10-31', '2019-11-29', '2019-12-31', '2020-01-31',\n",
       "               '2020-02-28', '2020-03-31'],\n",
       "              dtype='datetime64[ns]', name='date', length=724, freq=None)"
      ]
     },
     "execution_count": 12,
     "metadata": {},
     "output_type": "execute_result"
    }
   ],
   "source": [
    "df_bbg.index"
   ]
  },
  {
   "cell_type": "markdown",
   "metadata": {},
   "source": [
    "#### Change each index type to `PeriodIndex` with **M** frequency"
   ]
  },
  {
   "cell_type": "code",
   "execution_count": 13,
   "metadata": {
    "ExecuteTime": {
     "end_time": "2020-04-27T06:31:53.422836Z",
     "start_time": "2020-04-27T06:31:53.414848Z"
    }
   },
   "outputs": [],
   "source": [
    "gfd_index = pd.to_datetime(df_gfd.index).to_period(_freq)\n",
    "bbg_index = pd.to_datetime(df_bbg.index).to_period(_freq)"
   ]
  },
  {
   "cell_type": "code",
   "execution_count": 14,
   "metadata": {
    "ExecuteTime": {
     "end_time": "2020-04-27T06:31:53.430804Z",
     "start_time": "2020-04-27T06:31:53.425819Z"
    }
   },
   "outputs": [],
   "source": [
    "df_gfd = df_gfd.set_index(gfd_index)\n",
    "df_bbg = df_bbg.set_index(bbg_index)"
   ]
  },
  {
   "cell_type": "markdown",
   "metadata": {},
   "source": [
    "#### Joining `df_gfd` and `df_bbg` to create `df`"
   ]
  },
  {
   "cell_type": "code",
   "execution_count": 15,
   "metadata": {
    "ExecuteTime": {
     "end_time": "2020-04-27T06:31:53.440778Z",
     "start_time": "2020-04-27T06:31:53.432799Z"
    }
   },
   "outputs": [],
   "source": [
    "df = pd.merge(df_gfd, df_bbg, how='left', left_index=True, right_index=True, suffixes=('_gfd', '_bbg'))"
   ]
  },
  {
   "cell_type": "markdown",
   "metadata": {},
   "source": [
    "Data range is:"
   ]
  },
  {
   "cell_type": "code",
   "execution_count": 16,
   "metadata": {
    "ExecuteTime": {
     "end_time": "2020-04-27T06:31:53.448758Z",
     "start_time": "2020-04-27T06:31:53.442773Z"
    }
   },
   "outputs": [
    {
     "data": {
      "text/plain": [
       "(Period('1850-01', 'M'), Period('2020-04', 'M'))"
      ]
     },
     "execution_count": 16,
     "metadata": {},
     "output_type": "execute_result"
    }
   ],
   "source": [
    "df.index.min(), df.index.max()"
   ]
  },
  {
   "cell_type": "code",
   "execution_count": 17,
   "metadata": {
    "ExecuteTime": {
     "end_time": "2020-04-27T06:31:53.457733Z",
     "start_time": "2020-04-27T06:31:53.450752Z"
    }
   },
   "outputs": [
    {
     "data": {
      "text/plain": [
       "PeriodIndex(['1850-01', '1850-02', '1850-03', '1850-04', '1850-05', '1850-06',\n",
       "             '1850-07', '1850-08', '1850-09', '1850-10',\n",
       "             ...\n",
       "             '2019-07', '2019-08', '2019-09', '2019-10', '2019-11', '2019-12',\n",
       "             '2020-01', '2020-02', '2020-03', '2020-04'],\n",
       "            dtype='period[M]', name='Date', length=2044, freq='M')"
      ]
     },
     "execution_count": 17,
     "metadata": {},
     "output_type": "execute_result"
    }
   ],
   "source": [
    "df.index"
   ]
  },
  {
   "cell_type": "markdown",
   "metadata": {},
   "source": [
    "To rename the index name, we set *inplace=True* in order for the data frame to retain all its properties.\n",
    "- https://stackoverflow.com/questions/19851005/rename-pandas-dataframe-index"
   ]
  },
  {
   "cell_type": "code",
   "execution_count": 18,
   "metadata": {
    "ExecuteTime": {
     "end_time": "2020-04-27T06:31:53.463718Z",
     "start_time": "2020-04-27T06:31:53.459745Z"
    }
   },
   "outputs": [],
   "source": [
    "df.index.rename('date', inplace=True)"
   ]
  },
  {
   "cell_type": "code",
   "execution_count": 19,
   "metadata": {
    "ExecuteTime": {
     "end_time": "2020-04-27T06:31:53.629276Z",
     "start_time": "2020-04-27T06:31:53.468704Z"
    }
   },
   "outputs": [
    {
     "data": {
      "application/vnd.jupyter.widget-view+json": {
       "model_id": "a34b6ef80335471aa8e7f9d9fc5ef98c"
      },
      "text/html": [
       "<div>\n",
       "<style scoped>\n",
       "    .dataframe tbody tr th:only-of-type {\n",
       "        vertical-align: middle;\n",
       "    }\n",
       "\n",
       "    .dataframe tbody tr th {\n",
       "        vertical-align: top;\n",
       "    }\n",
       "\n",
       "    .dataframe thead th {\n",
       "        text-align: right;\n",
       "    }\n",
       "</style>\n",
       "<table border=\"1\" class=\"dataframe\">\n",
       "  <thead>\n",
       "    <tr style=\"text-align: right;\">\n",
       "      <th></th>\n",
       "      <th>CMWXMMM</th>\n",
       "      <th>CPUSAM</th>\n",
       "      <th>GBPUSD_rate</th>\n",
       "      <th>IDUSAD</th>\n",
       "      <th>ITUSA3CMD</th>\n",
       "      <th>NG_P_WTD</th>\n",
       "      <th>TRUSACOM</th>\n",
       "      <th>TRUSG10M</th>\n",
       "      <th>USDBEF_rate</th>\n",
       "      <th>USDCAD_rate_gfd</th>\n",
       "      <th>...</th>\n",
       "      <th>ENGY_idx</th>\n",
       "      <th>DXY_idx</th>\n",
       "      <th>USDCAD_rate_bbg</th>\n",
       "      <th>USDNOK_rate_bbg</th>\n",
       "      <th>AUDUSD_rate</th>\n",
       "      <th>USDJPY_rate_bbg</th>\n",
       "      <th>USDCHF_rate_bbg</th>\n",
       "      <th>TBILL3M_idx</th>\n",
       "      <th>EMEQ_idx</th>\n",
       "      <th>ACEQ_idx</th>\n",
       "    </tr>\n",
       "    <tr>\n",
       "      <th>date</th>\n",
       "      <th></th>\n",
       "      <th></th>\n",
       "      <th></th>\n",
       "      <th></th>\n",
       "      <th></th>\n",
       "      <th></th>\n",
       "      <th></th>\n",
       "      <th></th>\n",
       "      <th></th>\n",
       "      <th></th>\n",
       "      <th></th>\n",
       "      <th></th>\n",
       "      <th></th>\n",
       "      <th></th>\n",
       "      <th></th>\n",
       "      <th></th>\n",
       "      <th></th>\n",
       "      <th></th>\n",
       "      <th></th>\n",
       "      <th></th>\n",
       "      <th></th>\n",
       "    </tr>\n",
       "  </thead>\n",
       "  <tbody>\n",
       "    <tr>\n",
       "      <th>1850-01</th>\n",
       "      <td>NaN</td>\n",
       "      <td>NaN</td>\n",
       "      <td>23.047528</td>\n",
       "      <td>NaN</td>\n",
       "      <td>NaN</td>\n",
       "      <td>NaN</td>\n",
       "      <td>1.051075</td>\n",
       "      <td>3.306525</td>\n",
       "      <td>5.2607</td>\n",
       "      <td>0.2581</td>\n",
       "      <td>...</td>\n",
       "      <td>NaN</td>\n",
       "      <td>NaN</td>\n",
       "      <td>NaN</td>\n",
       "      <td>NaN</td>\n",
       "      <td>NaN</td>\n",
       "      <td>NaN</td>\n",
       "      <td>NaN</td>\n",
       "      <td>NaN</td>\n",
       "      <td>NaN</td>\n",
       "      <td>NaN</td>\n",
       "    </tr>\n",
       "    <tr>\n",
       "      <th>1850-02</th>\n",
       "      <td>NaN</td>\n",
       "      <td>NaN</td>\n",
       "      <td>23.428364</td>\n",
       "      <td>NaN</td>\n",
       "      <td>NaN</td>\n",
       "      <td>NaN</td>\n",
       "      <td>1.055901</td>\n",
       "      <td>3.315689</td>\n",
       "      <td>5.2468</td>\n",
       "      <td>0.2568</td>\n",
       "      <td>...</td>\n",
       "      <td>NaN</td>\n",
       "      <td>NaN</td>\n",
       "      <td>NaN</td>\n",
       "      <td>NaN</td>\n",
       "      <td>NaN</td>\n",
       "      <td>NaN</td>\n",
       "      <td>NaN</td>\n",
       "      <td>NaN</td>\n",
       "      <td>NaN</td>\n",
       "      <td>NaN</td>\n",
       "    </tr>\n",
       "    <tr>\n",
       "      <th>1850-03</th>\n",
       "      <td>NaN</td>\n",
       "      <td>NaN</td>\n",
       "      <td>23.360561</td>\n",
       "      <td>NaN</td>\n",
       "      <td>NaN</td>\n",
       "      <td>NaN</td>\n",
       "      <td>1.052282</td>\n",
       "      <td>3.273533</td>\n",
       "      <td>5.2524</td>\n",
       "      <td>0.2568</td>\n",
       "      <td>...</td>\n",
       "      <td>NaN</td>\n",
       "      <td>NaN</td>\n",
       "      <td>NaN</td>\n",
       "      <td>NaN</td>\n",
       "      <td>NaN</td>\n",
       "      <td>NaN</td>\n",
       "      <td>NaN</td>\n",
       "      <td>NaN</td>\n",
       "      <td>NaN</td>\n",
       "      <td>NaN</td>\n",
       "    </tr>\n",
       "    <tr>\n",
       "      <th>1850-04</th>\n",
       "      <td>NaN</td>\n",
       "      <td>NaN</td>\n",
       "      <td>23.091783</td>\n",
       "      <td>NaN</td>\n",
       "      <td>NaN</td>\n",
       "      <td>NaN</td>\n",
       "      <td>1.057999</td>\n",
       "      <td>3.475150</td>\n",
       "      <td>5.2775</td>\n",
       "      <td>0.2555</td>\n",
       "      <td>...</td>\n",
       "      <td>NaN</td>\n",
       "      <td>NaN</td>\n",
       "      <td>NaN</td>\n",
       "      <td>NaN</td>\n",
       "      <td>NaN</td>\n",
       "      <td>NaN</td>\n",
       "      <td>NaN</td>\n",
       "      <td>NaN</td>\n",
       "      <td>NaN</td>\n",
       "      <td>NaN</td>\n",
       "    </tr>\n",
       "    <tr>\n",
       "      <th>1850-05</th>\n",
       "      <td>NaN</td>\n",
       "      <td>NaN</td>\n",
       "      <td>23.911980</td>\n",
       "      <td>NaN</td>\n",
       "      <td>NaN</td>\n",
       "      <td>NaN</td>\n",
       "      <td>1.081762</td>\n",
       "      <td>3.482482</td>\n",
       "      <td>5.2330</td>\n",
       "      <td>0.2528</td>\n",
       "      <td>...</td>\n",
       "      <td>NaN</td>\n",
       "      <td>NaN</td>\n",
       "      <td>NaN</td>\n",
       "      <td>NaN</td>\n",
       "      <td>NaN</td>\n",
       "      <td>NaN</td>\n",
       "      <td>NaN</td>\n",
       "      <td>NaN</td>\n",
       "      <td>NaN</td>\n",
       "      <td>NaN</td>\n",
       "    </tr>\n",
       "    <tr>\n",
       "      <th>...</th>\n",
       "      <td>...</td>\n",
       "      <td>...</td>\n",
       "      <td>...</td>\n",
       "      <td>...</td>\n",
       "      <td>...</td>\n",
       "      <td>...</td>\n",
       "      <td>...</td>\n",
       "      <td>...</td>\n",
       "      <td>...</td>\n",
       "      <td>...</td>\n",
       "      <td>...</td>\n",
       "      <td>...</td>\n",
       "      <td>...</td>\n",
       "      <td>...</td>\n",
       "      <td>...</td>\n",
       "      <td>...</td>\n",
       "      <td>...</td>\n",
       "      <td>...</td>\n",
       "      <td>...</td>\n",
       "      <td>...</td>\n",
       "      <td>...</td>\n",
       "    </tr>\n",
       "    <tr>\n",
       "      <th>2019-12</th>\n",
       "      <td>77.469997</td>\n",
       "      <td>256.974</td>\n",
       "      <td>1.759655</td>\n",
       "      <td>NaN</td>\n",
       "      <td>1.55</td>\n",
       "      <td>NaN</td>\n",
       "      <td>23920.300000</td>\n",
       "      <td>10836.125049</td>\n",
       "      <td>0.8917</td>\n",
       "      <td>1.2986</td>\n",
       "      <td>...</td>\n",
       "      <td>206.6327</td>\n",
       "      <td>96.389</td>\n",
       "      <td>1.2990</td>\n",
       "      <td>8.7855</td>\n",
       "      <td>0.7021</td>\n",
       "      <td>108.61</td>\n",
       "      <td>0.9666</td>\n",
       "      <td>1.5436</td>\n",
       "      <td>1114.66</td>\n",
       "      <td>565.24</td>\n",
       "    </tr>\n",
       "    <tr>\n",
       "      <th>2020-01</th>\n",
       "      <td>77.702232</td>\n",
       "      <td>257.971</td>\n",
       "      <td>1.742672</td>\n",
       "      <td>NaN</td>\n",
       "      <td>1.55</td>\n",
       "      <td>NaN</td>\n",
       "      <td>24418.540000</td>\n",
       "      <td>11252.031439</td>\n",
       "      <td>0.9013</td>\n",
       "      <td>1.3235</td>\n",
       "      <td>...</td>\n",
       "      <td>174.8693</td>\n",
       "      <td>97.390</td>\n",
       "      <td>1.3237</td>\n",
       "      <td>9.2011</td>\n",
       "      <td>0.6692</td>\n",
       "      <td>108.35</td>\n",
       "      <td>0.9634</td>\n",
       "      <td>1.5382</td>\n",
       "      <td>1062.34</td>\n",
       "      <td>558.62</td>\n",
       "    </tr>\n",
       "    <tr>\n",
       "      <th>2020-02</th>\n",
       "      <td>73.015869</td>\n",
       "      <td>258.678</td>\n",
       "      <td>1.643800</td>\n",
       "      <td>NaN</td>\n",
       "      <td>1.27</td>\n",
       "      <td>NaN</td>\n",
       "      <td>24727.670000</td>\n",
       "      <td>11666.405078</td>\n",
       "      <td>0.9069</td>\n",
       "      <td>1.3396</td>\n",
       "      <td>...</td>\n",
       "      <td>154.7120</td>\n",
       "      <td>98.132</td>\n",
       "      <td>1.3407</td>\n",
       "      <td>9.3939</td>\n",
       "      <td>0.6515</td>\n",
       "      <td>107.89</td>\n",
       "      <td>0.9649</td>\n",
       "      <td>1.2670</td>\n",
       "      <td>1005.52</td>\n",
       "      <td>512.76</td>\n",
       "    </tr>\n",
       "    <tr>\n",
       "      <th>2020-03</th>\n",
       "      <td>68.706871</td>\n",
       "      <td>258.115</td>\n",
       "      <td>1.542226</td>\n",
       "      <td>NaN</td>\n",
       "      <td>0.11</td>\n",
       "      <td>NaN</td>\n",
       "      <td>24260.990000</td>\n",
       "      <td>12149.672430</td>\n",
       "      <td>0.9065</td>\n",
       "      <td>1.4061</td>\n",
       "      <td>...</td>\n",
       "      <td>82.0629</td>\n",
       "      <td>99.048</td>\n",
       "      <td>1.4062</td>\n",
       "      <td>10.4028</td>\n",
       "      <td>0.6131</td>\n",
       "      <td>107.54</td>\n",
       "      <td>0.9611</td>\n",
       "      <td>0.0610</td>\n",
       "      <td>848.58</td>\n",
       "      <td>442.35</td>\n",
       "    </tr>\n",
       "    <tr>\n",
       "      <th>2020-04</th>\n",
       "      <td>NaN</td>\n",
       "      <td>NaN</td>\n",
       "      <td>1.552081</td>\n",
       "      <td>NaN</td>\n",
       "      <td>0.25</td>\n",
       "      <td>NaN</td>\n",
       "      <td>NaN</td>\n",
       "      <td>NaN</td>\n",
       "      <td>0.9144</td>\n",
       "      <td>1.3950</td>\n",
       "      <td>...</td>\n",
       "      <td>NaN</td>\n",
       "      <td>NaN</td>\n",
       "      <td>NaN</td>\n",
       "      <td>NaN</td>\n",
       "      <td>NaN</td>\n",
       "      <td>NaN</td>\n",
       "      <td>NaN</td>\n",
       "      <td>NaN</td>\n",
       "      <td>NaN</td>\n",
       "      <td>NaN</td>\n",
       "    </tr>\n",
       "  </tbody>\n",
       "</table>\n",
       "<p>2044 rows × 39 columns</p>\n",
       "</div>"
      ],
      "text/plain": [
       "           CMWXMMM   CPUSAM  GBPUSD_rate  IDUSAD  ITUSA3CMD  NG_P_WTD  \\\n",
       "date                                                                    \n",
       "1850-01        NaN      NaN    23.047528     NaN        NaN       NaN   \n",
       "1850-02        NaN      NaN    23.428364     NaN        NaN       NaN   \n",
       "1850-03        NaN      NaN    23.360561     NaN        NaN       NaN   \n",
       "1850-04        NaN      NaN    23.091783     NaN        NaN       NaN   \n",
       "1850-05        NaN      NaN    23.911980     NaN        NaN       NaN   \n",
       "...            ...      ...          ...     ...        ...       ...   \n",
       "2019-12  77.469997  256.974     1.759655     NaN       1.55       NaN   \n",
       "2020-01  77.702232  257.971     1.742672     NaN       1.55       NaN   \n",
       "2020-02  73.015869  258.678     1.643800     NaN       1.27       NaN   \n",
       "2020-03  68.706871  258.115     1.542226     NaN       0.11       NaN   \n",
       "2020-04        NaN      NaN     1.552081     NaN       0.25       NaN   \n",
       "\n",
       "             TRUSACOM      TRUSG10M  USDBEF_rate  USDCAD_rate_gfd  ...  \\\n",
       "date                                                               ...   \n",
       "1850-01      1.051075      3.306525       5.2607           0.2581  ...   \n",
       "1850-02      1.055901      3.315689       5.2468           0.2568  ...   \n",
       "1850-03      1.052282      3.273533       5.2524           0.2568  ...   \n",
       "1850-04      1.057999      3.475150       5.2775           0.2555  ...   \n",
       "1850-05      1.081762      3.482482       5.2330           0.2528  ...   \n",
       "...               ...           ...          ...              ...  ...   \n",
       "2019-12  23920.300000  10836.125049       0.8917           1.2986  ...   \n",
       "2020-01  24418.540000  11252.031439       0.9013           1.3235  ...   \n",
       "2020-02  24727.670000  11666.405078       0.9069           1.3396  ...   \n",
       "2020-03  24260.990000  12149.672430       0.9065           1.4061  ...   \n",
       "2020-04           NaN           NaN       0.9144           1.3950  ...   \n",
       "\n",
       "         ENGY_idx  DXY_idx  USDCAD_rate_bbg  USDNOK_rate_bbg  AUDUSD_rate  \\\n",
       "date                                                                        \n",
       "1850-01       NaN      NaN              NaN              NaN          NaN   \n",
       "1850-02       NaN      NaN              NaN              NaN          NaN   \n",
       "1850-03       NaN      NaN              NaN              NaN          NaN   \n",
       "1850-04       NaN      NaN              NaN              NaN          NaN   \n",
       "1850-05       NaN      NaN              NaN              NaN          NaN   \n",
       "...           ...      ...              ...              ...          ...   \n",
       "2019-12  206.6327   96.389           1.2990           8.7855       0.7021   \n",
       "2020-01  174.8693   97.390           1.3237           9.2011       0.6692   \n",
       "2020-02  154.7120   98.132           1.3407           9.3939       0.6515   \n",
       "2020-03   82.0629   99.048           1.4062          10.4028       0.6131   \n",
       "2020-04       NaN      NaN              NaN              NaN          NaN   \n",
       "\n",
       "         USDJPY_rate_bbg  USDCHF_rate_bbg  TBILL3M_idx  EMEQ_idx  ACEQ_idx  \n",
       "date                                                                        \n",
       "1850-01              NaN              NaN          NaN       NaN       NaN  \n",
       "1850-02              NaN              NaN          NaN       NaN       NaN  \n",
       "1850-03              NaN              NaN          NaN       NaN       NaN  \n",
       "1850-04              NaN              NaN          NaN       NaN       NaN  \n",
       "1850-05              NaN              NaN          NaN       NaN       NaN  \n",
       "...                  ...              ...          ...       ...       ...  \n",
       "2019-12           108.61           0.9666       1.5436   1114.66    565.24  \n",
       "2020-01           108.35           0.9634       1.5382   1062.34    558.62  \n",
       "2020-02           107.89           0.9649       1.2670   1005.52    512.76  \n",
       "2020-03           107.54           0.9611       0.0610    848.58    442.35  \n",
       "2020-04              NaN              NaN          NaN       NaN       NaN  \n",
       "\n",
       "[2044 rows x 39 columns]"
      ]
     },
     "metadata": {},
     "output_type": "display_data"
    }
   ],
   "source": [
    "df"
   ]
  },
  {
   "cell_type": "code",
   "execution_count": 20,
   "metadata": {
    "ExecuteTime": {
     "end_time": "2020-04-27T06:31:54.280528Z",
     "start_time": "2020-04-27T06:31:53.632275Z"
    }
   },
   "outputs": [
    {
     "data": {
      "text/plain": [
       "[<matplotlib.lines.Line2D at 0x253df3c6d48>]"
      ]
     },
     "execution_count": 20,
     "metadata": {},
     "output_type": "execute_result"
    },
    {
     "data": {
      "image/png": "[encoded data removed]",
      "text/plain": [
       "<Figure size 432x288 with 1 Axes>"
      ]
     },
     "metadata": {
      "needs_background": "light"
     },
     "output_type": "display_data"
    }
   ],
   "source": [
    "plt.plot(df.GBPUSD_rate.values)"
   ]
  },
  {
   "cell_type": "code",
   "execution_count": 21,
   "metadata": {
    "ExecuteTime": {
     "end_time": "2020-04-27T06:31:54.287510Z",
     "start_time": "2020-04-27T06:31:54.281525Z"
    }
   },
   "outputs": [],
   "source": [
    "df2 = df.sort_index()"
   ]
  },
  {
   "cell_type": "code",
   "execution_count": 22,
   "metadata": {
    "ExecuteTime": {
     "end_time": "2020-04-27T06:31:54.490965Z",
     "start_time": "2020-04-27T06:31:54.289505Z"
    }
   },
   "outputs": [
    {
     "data": {
      "text/plain": [
       "[<matplotlib.lines.Line2D at 0x253df834808>]"
      ]
     },
     "execution_count": 22,
     "metadata": {},
     "output_type": "execute_result"
    },
    {
     "data": {
      "image/png": "[encoded data removed]",
      "text/plain": [
       "<Figure size 432x288 with 1 Axes>"
      ]
     },
     "metadata": {
      "needs_background": "light"
     },
     "output_type": "display_data"
    }
   ],
   "source": [
    "plt.plot(df2.GBPUSD_rate.values)"
   ]
  },
  {
   "cell_type": "code",
   "execution_count": 23,
   "metadata": {
    "ExecuteTime": {
     "end_time": "2020-04-27T06:31:54.502932Z",
     "start_time": "2020-04-27T06:31:54.495952Z"
    }
   },
   "outputs": [
    {
     "data": {
      "text/plain": [
       "True"
      ]
     },
     "execution_count": 23,
     "metadata": {},
     "output_type": "execute_result"
    }
   ],
   "source": [
    "np.all(df2.GBPUSD_rate.values == df.GBPUSD_rate.values)"
   ]
  },
  {
   "cell_type": "markdown",
   "metadata": {},
   "source": [
    "## 2) Cleaning `df_lv`"
   ]
  },
  {
   "cell_type": "markdown",
   "metadata": {},
   "source": [
    "####  Create `date` column"
   ]
  },
  {
   "cell_type": "code",
   "execution_count": 24,
   "metadata": {
    "ExecuteTime": {
     "end_time": "2020-04-27T06:31:54.532855Z",
     "start_time": "2020-04-27T06:31:54.504929Z"
    }
   },
   "outputs": [],
   "source": [
    "# Split. e.g: 2019:3 in `Survey Date` to two different columns\n",
    "# bamboolib live code export\n",
    "split_df = df_lv[\"Survey Date\"].str.split(':', expand=True)\n",
    "split_df.columns = [f\"Survey Date_{id_}\" for id_ in range(len(split_df.columns))]\n",
    "df_lv = pd.merge(df_lv, split_df, how=\"left\", left_index=True, right_index=True)\n",
    "\n",
    "# Create `date` index\n",
    "df_lv['date'] = pd.to_datetime({\n",
    "    'year': df_lv['Survey Date_0'],\n",
    "    'month': df_lv['Survey Date_1'].astype(int, errors='raise')*3,\n",
    "    'day': 1\n",
    "})\n",
    "df_lv = df_lv.set_index('date')\n",
    "df_lv = df_lv.drop(['Survey Date', 'Survey Date_0', 'Survey Date_1', 'Blue Chip', 'Livingston'], axis=1)\n",
    "df_lv = df_lv.dropna()"
   ]
  },
  {
   "cell_type": "markdown",
   "metadata": {},
   "source": [
    "#### Some data points in `df_lv` are too big in their absolue values that make no sense.\n",
    "- Its scale is 1e9\n",
    "- Change it to NaN"
   ]
  },
  {
   "cell_type": "code",
   "execution_count": 25,
   "metadata": {
    "ExecuteTime": {
     "end_time": "2020-04-27T06:31:54.734313Z",
     "start_time": "2020-04-27T06:31:54.540831Z"
    }
   },
   "outputs": [
    {
     "data": {
      "text/plain": [
       "<matplotlib.axes._subplots.AxesSubplot at 0x253df959fc8>"
      ]
     },
     "execution_count": 25,
     "metadata": {},
     "output_type": "execute_result"
    },
    {
     "data": {
      "image/png": "[encoded data removed]",
      "text/plain": [
       "<Figure size 432x288 with 1 Axes>"
      ]
     },
     "metadata": {
      "needs_background": "light"
     },
     "output_type": "display_data"
    }
   ],
   "source": [
    "df_lv.Combined.hist()"
   ]
  },
  {
   "cell_type": "code",
   "execution_count": 26,
   "metadata": {
    "ExecuteTime": {
     "end_time": "2020-04-27T06:31:54.743288Z",
     "start_time": "2020-04-27T06:31:54.736308Z"
    }
   },
   "outputs": [],
   "source": [
    "df_lv.Combined = df_lv.Combined.mask((df_lv.Combined > 1e3) | (df_lv.Combined < -1e3))"
   ]
  },
  {
   "cell_type": "markdown",
   "metadata": {},
   "source": [
    "Now it looks fine."
   ]
  },
  {
   "cell_type": "code",
   "execution_count": 27,
   "metadata": {
    "ExecuteTime": {
     "end_time": "2020-04-27T06:31:54.931783Z",
     "start_time": "2020-04-27T06:31:54.747278Z"
    }
   },
   "outputs": [
    {
     "data": {
      "text/plain": [
       "<matplotlib.axes._subplots.AxesSubplot at 0x253df9ad248>"
      ]
     },
     "execution_count": 27,
     "metadata": {},
     "output_type": "execute_result"
    },
    {
     "data": {
      "image/png": "[encoded data removed]",
      "text/plain": [
       "<Figure size 432x288 with 1 Axes>"
      ]
     },
     "metadata": {
      "needs_background": "light"
     },
     "output_type": "display_data"
    }
   ],
   "source": [
    "df_lv.Combined.hist()"
   ]
  },
  {
   "cell_type": "code",
   "execution_count": 28,
   "metadata": {
    "ExecuteTime": {
     "end_time": "2020-04-27T06:31:55.029536Z",
     "start_time": "2020-04-27T06:31:54.933778Z"
    }
   },
   "outputs": [
    {
     "data": {
      "application/vnd.jupyter.widget-view+json": {
       "model_id": "6d57a09c37794187b56ac115e1fc9402"
      },
      "text/html": [
       "<div>\n",
       "<style scoped>\n",
       "    .dataframe tbody tr th:only-of-type {\n",
       "        vertical-align: middle;\n",
       "    }\n",
       "\n",
       "    .dataframe tbody tr th {\n",
       "        vertical-align: top;\n",
       "    }\n",
       "\n",
       "    .dataframe thead th {\n",
       "        text-align: right;\n",
       "    }\n",
       "</style>\n",
       "<table border=\"1\" class=\"dataframe\">\n",
       "  <thead>\n",
       "    <tr style=\"text-align: right;\">\n",
       "      <th></th>\n",
       "      <th>Combined</th>\n",
       "    </tr>\n",
       "    <tr>\n",
       "      <th>date</th>\n",
       "      <th></th>\n",
       "    </tr>\n",
       "  </thead>\n",
       "  <tbody>\n",
       "    <tr>\n",
       "      <th>1990-09-01</th>\n",
       "      <td>NaN</td>\n",
       "    </tr>\n",
       "    <tr>\n",
       "      <th>1990-12-01</th>\n",
       "      <td>4.15</td>\n",
       "    </tr>\n",
       "    <tr>\n",
       "      <th>1991-03-01</th>\n",
       "      <td>4.05</td>\n",
       "    </tr>\n",
       "    <tr>\n",
       "      <th>1991-06-01</th>\n",
       "      <td>4.08</td>\n",
       "    </tr>\n",
       "    <tr>\n",
       "      <th>1991-09-01</th>\n",
       "      <td>NaN</td>\n",
       "    </tr>\n",
       "  </tbody>\n",
       "</table>\n",
       "</div>"
      ],
      "text/plain": [
       "            Combined\n",
       "date                \n",
       "1990-09-01       NaN\n",
       "1990-12-01      4.15\n",
       "1991-03-01      4.05\n",
       "1991-06-01      4.08\n",
       "1991-09-01       NaN"
      ]
     },
     "metadata": {},
     "output_type": "display_data"
    }
   ],
   "source": [
    "df_lv.tail()"
   ]
  },
  {
   "cell_type": "markdown",
   "metadata": {},
   "source": [
    "#### Merge `df_spf` and `df_lv` to create one survey table `df_sv`"
   ]
  },
  {
   "cell_type": "code",
   "execution_count": 29,
   "metadata": {
    "ExecuteTime": {
     "end_time": "2020-04-27T06:31:55.070412Z",
     "start_time": "2020-04-27T06:31:55.036504Z"
    }
   },
   "outputs": [],
   "source": [
    "df_sv = pd.merge(left=df_lv, right=df_spf, how='outer', on='date')"
   ]
  },
  {
   "cell_type": "code",
   "execution_count": 30,
   "metadata": {
    "ExecuteTime": {
     "end_time": "2020-04-27T06:31:55.085372Z",
     "start_time": "2020-04-27T06:31:55.079388Z"
    }
   },
   "outputs": [
    {
     "data": {
      "text/plain": [
       "Index(['Combined', 'YEAR', 'QUARTER', 'INFPGDP1YR', 'INFCPI1YR', 'INFCPI10YR'], dtype='object')"
      ]
     },
     "execution_count": 30,
     "metadata": {},
     "output_type": "execute_result"
    }
   ],
   "source": [
    "df_sv.columns"
   ]
  },
  {
   "attachments": {},
   "cell_type": "markdown",
   "metadata": {},
   "source": [
    "We drop unnecessary columns and change a column name.\n",
    "- `INFPGDP1YR`, not CPI forecasts. Drop it.\n",
    "- Rename: `Combined` -> `LVCPI10YR`, `INFCPI1YR` -> `CPI1YR_F`\n",
    "  - Now `LVCPI10YR` is the forecast of the average rate of CPI inflation for the next 10 years by Livingston survey. "
   ]
  },
  {
   "cell_type": "markdown",
   "metadata": {},
   "source": [
    "**Livingston Survey**: Long-term inflation forecasts are taken in every survey, June and December. \n",
    "\n",
    "**Blue Chip Economic Indicators**: Long-term inflation forecasts are taken twice a year (March and October).  The original data were obtained from Robert Eggert, Editor, Blue Chip Economic Indicators, P.O. Box 2243, Sedona, Arizona 86339, phone (602) 282-4882.  Note that prior to 1983, and in 1983:4, the variable was the GNP deflator rather than the CPI.\n"
   ]
  },
  {
   "cell_type": "code",
   "execution_count": 31,
   "metadata": {
    "ExecuteTime": {
     "end_time": "2020-04-27T06:31:55.095353Z",
     "start_time": "2020-04-27T06:31:55.087366Z"
    }
   },
   "outputs": [],
   "source": [
    "df_sv = df_sv.drop(['YEAR', 'QUARTER', 'INFPGDP1YR'], axis=1)\n",
    "df_sv = df_sv.rename(columns={\n",
    "    'Combined': 'LVCPI10YR',\n",
    "    'INFCPI1YR': 'CPI1YR_F'\n",
    "})"
   ]
  },
  {
   "cell_type": "markdown",
   "metadata": {},
   "source": [
    "#### For some reason, 1970s data is stored in somewhere in the middle, not sorted.\n",
    "- So we sort `df_sv` by its index."
   ]
  },
  {
   "cell_type": "code",
   "execution_count": 32,
   "metadata": {
    "ExecuteTime": {
     "end_time": "2020-04-27T06:31:55.104321Z",
     "start_time": "2020-04-27T06:31:55.097340Z"
    }
   },
   "outputs": [],
   "source": [
    "df_sv = df_sv.sort_index()"
   ]
  },
  {
   "cell_type": "code",
   "execution_count": 33,
   "metadata": {
    "ExecuteTime": {
     "end_time": "2020-04-27T06:31:55.385567Z",
     "start_time": "2020-04-27T06:31:55.107313Z"
    }
   },
   "outputs": [
    {
     "data": {
      "text/plain": [
       "<matplotlib.axes._subplots.AxesSubplot at 0x253e09d53c8>"
      ]
     },
     "execution_count": 33,
     "metadata": {},
     "output_type": "execute_result"
    },
    {
     "data": {
      "image/png": "[encoded data removed]",
      "text/plain": [
       "<Figure size 432x288 with 1 Axes>"
      ]
     },
     "metadata": {
      "needs_background": "light"
     },
     "output_type": "display_data"
    }
   ],
   "source": [
    "df_sv.loc[:, ['date', 'LVCPI10YR', 'CPI1YR_F', 'INFCPI10YR']].plot()"
   ]
  },
  {
   "cell_type": "markdown",
   "metadata": {},
   "source": [
    "An observation: `LVCPI10YR` and `INFCPI10YR` have no overlap in their data."
   ]
  },
  {
   "cell_type": "code",
   "execution_count": 34,
   "metadata": {
    "ExecuteTime": {
     "end_time": "2020-04-27T06:31:55.400527Z",
     "start_time": "2020-04-27T06:31:55.387563Z"
    }
   },
   "outputs": [
    {
     "data": {
      "text/plain": [
       "(date\n",
       " 1991-06-01    4.08\n",
       " Name: LVCPI10YR, dtype: float64,\n",
       " date\n",
       " 1991-12-01    4.0\n",
       " Name: INFCPI10YR, dtype: float64)"
      ]
     },
     "execution_count": 34,
     "metadata": {},
     "output_type": "execute_result"
    }
   ],
   "source": [
    "df_sv.LVCPI10YR.dropna().tail(1), df_sv.INFCPI10YR.dropna().head(1)"
   ]
  },
  {
   "cell_type": "markdown",
   "metadata": {},
   "source": [
    "So we can simply merge them using *fillna()*"
   ]
  },
  {
   "cell_type": "code",
   "execution_count": 35,
   "metadata": {
    "ExecuteTime": {
     "end_time": "2020-04-27T06:31:55.643876Z",
     "start_time": "2020-04-27T06:31:55.402522Z"
    }
   },
   "outputs": [
    {
     "data": {
      "text/plain": [
       "<matplotlib.axes._subplots.AxesSubplot at 0x253e0acee08>"
      ]
     },
     "execution_count": 35,
     "metadata": {},
     "output_type": "execute_result"
    },
    {
     "data": {
      "image/png": "[encoded data removed]",
      "text/plain": [
       "<Figure size 432x288 with 1 Axes>"
      ]
     },
     "metadata": {
      "needs_background": "light"
     },
     "output_type": "display_data"
    }
   ],
   "source": [
    "df_sv['CPI10YR_F'] = df_sv.INFCPI10YR.fillna(df_sv.LVCPI10YR)\n",
    "df_sv['CPI10YR_F'].plot()"
   ]
  },
  {
   "cell_type": "markdown",
   "metadata": {},
   "source": [
    "#### We backfill `CPI10YR_F` from the first valid data point.\n",
    "- We don't backfill what comes before the first valid data point."
   ]
  },
  {
   "cell_type": "code",
   "execution_count": 36,
   "metadata": {
    "ExecuteTime": {
     "end_time": "2020-04-27T06:31:55.653858Z",
     "start_time": "2020-04-27T06:31:55.645871Z"
    }
   },
   "outputs": [
    {
     "data": {
      "text/plain": [
       "date\n",
       "1979-12-01    6.90\n",
       "1980-06-01    7.85\n",
       "1980-12-01    8.25\n",
       "1981-06-01    7.80\n",
       "1981-12-01    7.05\n",
       "              ... \n",
       "2019-03-01    2.20\n",
       "2019-06-01    2.20\n",
       "2019-09-01    2.20\n",
       "2019-12-01    2.20\n",
       "2020-03-01    2.20\n",
       "Name: CPI10YR_F, Length: 140, dtype: float64"
      ]
     },
     "execution_count": 36,
     "metadata": {},
     "output_type": "execute_result"
    }
   ],
   "source": [
    "df_sv.CPI10YR_F.dropna()"
   ]
  },
  {
   "cell_type": "code",
   "execution_count": 37,
   "metadata": {
    "ExecuteTime": {
     "end_time": "2020-04-27T06:31:55.883235Z",
     "start_time": "2020-04-27T06:31:55.656845Z"
    }
   },
   "outputs": [
    {
     "data": {
      "text/plain": [
       "<matplotlib.axes._subplots.AxesSubplot at 0x253e0b01ec8>"
      ]
     },
     "execution_count": 37,
     "metadata": {},
     "output_type": "execute_result"
    },
    {
     "data": {
      "image/png": "[encoded data removed]",
      "text/plain": [
       "<Figure size 432x288 with 1 Axes>"
      ]
     },
     "metadata": {
      "needs_background": "light"
     },
     "output_type": "display_data"
    }
   ],
   "source": [
    "cpi10yr_f = df_sv.loc[df_sv.CPI10YR_F.first_valid_index():,'CPI10YR_F'].fillna(method='ffill')\n",
    "df_sv = pd.merge(left=df_sv, right=cpi10yr_f, how='outer', on='date', suffixes=('_unfilled', ''))\n",
    "df_sv = df_sv.drop(['LVCPI10YR', 'INFCPI10YR', 'CPI10YR_F_unfilled'], axis=1)\n",
    "df_sv.loc[:, ['CPI1YR_F','CPI10YR_F']].plot()"
   ]
  },
  {
   "cell_type": "code",
   "execution_count": 38,
   "metadata": {
    "ExecuteTime": {
     "end_time": "2020-04-27T06:31:55.893207Z",
     "start_time": "2020-04-27T06:31:55.885236Z"
    }
   },
   "outputs": [],
   "source": [
    "sv_index = pd.to_datetime(df_sv.index).to_period(_freq)\n",
    "df_sv.set_index(sv_index, inplace=True)"
   ]
  },
  {
   "cell_type": "markdown",
   "metadata": {},
   "source": [
    "#### Drop rows where their keys are this month if `_freq` == 'M'.\n",
    "- They are not really the end-of-month data, but within-month data. This happens because, e.g., data downloaded on 2020-04-18 comes with a tag as 2020-04-01, which will be in turn converted into April 2020 which looks like an end-of-month data point."
   ]
  },
  {
   "cell_type": "code",
   "execution_count": 39,
   "metadata": {
    "ExecuteTime": {
     "end_time": "2020-04-27T06:31:55.903180Z",
     "start_time": "2020-04-27T06:31:55.895202Z"
    }
   },
   "outputs": [],
   "source": [
    "if _freq == 'M':\n",
    "    this_month = pd.Timestamp.today().to_period(_freq)\n",
    "    df = df.loc[~(df.index==this_month), :]"
   ]
  },
  {
   "cell_type": "markdown",
   "metadata": {},
   "source": [
    "## 3) Merge `df_sv` with `df`"
   ]
  },
  {
   "cell_type": "code",
   "execution_count": 40,
   "metadata": {
    "ExecuteTime": {
     "end_time": "2020-04-27T06:31:55.916150Z",
     "start_time": "2020-04-27T06:31:55.906172Z"
    }
   },
   "outputs": [],
   "source": [
    "df = df.merge(df_sv, how='outer', left_index=True, right_index=True)"
   ]
  },
  {
   "cell_type": "code",
   "execution_count": 41,
   "metadata": {
    "ExecuteTime": {
     "end_time": "2020-04-27T06:31:56.046795Z",
     "start_time": "2020-04-27T06:31:55.920136Z"
    }
   },
   "outputs": [
    {
     "data": {
      "application/vnd.jupyter.widget-view+json": {
       "model_id": "ee622513ff244ceb9cae2f2dfa15deb3"
      },
      "text/html": [
       "<div>\n",
       "<style scoped>\n",
       "    .dataframe tbody tr th:only-of-type {\n",
       "        vertical-align: middle;\n",
       "    }\n",
       "\n",
       "    .dataframe tbody tr th {\n",
       "        vertical-align: top;\n",
       "    }\n",
       "\n",
       "    .dataframe thead th {\n",
       "        text-align: right;\n",
       "    }\n",
       "</style>\n",
       "<table border=\"1\" class=\"dataframe\">\n",
       "  <thead>\n",
       "    <tr style=\"text-align: right;\">\n",
       "      <th></th>\n",
       "      <th>CMWXMMM</th>\n",
       "      <th>CPUSAM</th>\n",
       "      <th>GBPUSD_rate</th>\n",
       "      <th>IDUSAD</th>\n",
       "      <th>ITUSA3CMD</th>\n",
       "      <th>NG_P_WTD</th>\n",
       "      <th>TRUSACOM</th>\n",
       "      <th>TRUSG10M</th>\n",
       "      <th>USDBEF_rate</th>\n",
       "      <th>USDCAD_rate_gfd</th>\n",
       "      <th>...</th>\n",
       "      <th>USDCAD_rate_bbg</th>\n",
       "      <th>USDNOK_rate_bbg</th>\n",
       "      <th>AUDUSD_rate</th>\n",
       "      <th>USDJPY_rate_bbg</th>\n",
       "      <th>USDCHF_rate_bbg</th>\n",
       "      <th>TBILL3M_idx</th>\n",
       "      <th>EMEQ_idx</th>\n",
       "      <th>ACEQ_idx</th>\n",
       "      <th>CPI1YR_F</th>\n",
       "      <th>CPI10YR_F</th>\n",
       "    </tr>\n",
       "    <tr>\n",
       "      <th>date</th>\n",
       "      <th></th>\n",
       "      <th></th>\n",
       "      <th></th>\n",
       "      <th></th>\n",
       "      <th></th>\n",
       "      <th></th>\n",
       "      <th></th>\n",
       "      <th></th>\n",
       "      <th></th>\n",
       "      <th></th>\n",
       "      <th></th>\n",
       "      <th></th>\n",
       "      <th></th>\n",
       "      <th></th>\n",
       "      <th></th>\n",
       "      <th></th>\n",
       "      <th></th>\n",
       "      <th></th>\n",
       "      <th></th>\n",
       "      <th></th>\n",
       "      <th></th>\n",
       "    </tr>\n",
       "  </thead>\n",
       "  <tbody>\n",
       "    <tr>\n",
       "      <th>1850-01</th>\n",
       "      <td>NaN</td>\n",
       "      <td>NaN</td>\n",
       "      <td>23.047528</td>\n",
       "      <td>NaN</td>\n",
       "      <td>NaN</td>\n",
       "      <td>NaN</td>\n",
       "      <td>1.051075</td>\n",
       "      <td>3.306525</td>\n",
       "      <td>5.2607</td>\n",
       "      <td>0.2581</td>\n",
       "      <td>...</td>\n",
       "      <td>NaN</td>\n",
       "      <td>NaN</td>\n",
       "      <td>NaN</td>\n",
       "      <td>NaN</td>\n",
       "      <td>NaN</td>\n",
       "      <td>NaN</td>\n",
       "      <td>NaN</td>\n",
       "      <td>NaN</td>\n",
       "      <td>NaN</td>\n",
       "      <td>NaN</td>\n",
       "    </tr>\n",
       "    <tr>\n",
       "      <th>1850-02</th>\n",
       "      <td>NaN</td>\n",
       "      <td>NaN</td>\n",
       "      <td>23.428364</td>\n",
       "      <td>NaN</td>\n",
       "      <td>NaN</td>\n",
       "      <td>NaN</td>\n",
       "      <td>1.055901</td>\n",
       "      <td>3.315689</td>\n",
       "      <td>5.2468</td>\n",
       "      <td>0.2568</td>\n",
       "      <td>...</td>\n",
       "      <td>NaN</td>\n",
       "      <td>NaN</td>\n",
       "      <td>NaN</td>\n",
       "      <td>NaN</td>\n",
       "      <td>NaN</td>\n",
       "      <td>NaN</td>\n",
       "      <td>NaN</td>\n",
       "      <td>NaN</td>\n",
       "      <td>NaN</td>\n",
       "      <td>NaN</td>\n",
       "    </tr>\n",
       "    <tr>\n",
       "      <th>1850-03</th>\n",
       "      <td>NaN</td>\n",
       "      <td>NaN</td>\n",
       "      <td>23.360561</td>\n",
       "      <td>NaN</td>\n",
       "      <td>NaN</td>\n",
       "      <td>NaN</td>\n",
       "      <td>1.052282</td>\n",
       "      <td>3.273533</td>\n",
       "      <td>5.2524</td>\n",
       "      <td>0.2568</td>\n",
       "      <td>...</td>\n",
       "      <td>NaN</td>\n",
       "      <td>NaN</td>\n",
       "      <td>NaN</td>\n",
       "      <td>NaN</td>\n",
       "      <td>NaN</td>\n",
       "      <td>NaN</td>\n",
       "      <td>NaN</td>\n",
       "      <td>NaN</td>\n",
       "      <td>NaN</td>\n",
       "      <td>NaN</td>\n",
       "    </tr>\n",
       "    <tr>\n",
       "      <th>1850-04</th>\n",
       "      <td>NaN</td>\n",
       "      <td>NaN</td>\n",
       "      <td>23.091783</td>\n",
       "      <td>NaN</td>\n",
       "      <td>NaN</td>\n",
       "      <td>NaN</td>\n",
       "      <td>1.057999</td>\n",
       "      <td>3.475150</td>\n",
       "      <td>5.2775</td>\n",
       "      <td>0.2555</td>\n",
       "      <td>...</td>\n",
       "      <td>NaN</td>\n",
       "      <td>NaN</td>\n",
       "      <td>NaN</td>\n",
       "      <td>NaN</td>\n",
       "      <td>NaN</td>\n",
       "      <td>NaN</td>\n",
       "      <td>NaN</td>\n",
       "      <td>NaN</td>\n",
       "      <td>NaN</td>\n",
       "      <td>NaN</td>\n",
       "    </tr>\n",
       "    <tr>\n",
       "      <th>1850-05</th>\n",
       "      <td>NaN</td>\n",
       "      <td>NaN</td>\n",
       "      <td>23.911980</td>\n",
       "      <td>NaN</td>\n",
       "      <td>NaN</td>\n",
       "      <td>NaN</td>\n",
       "      <td>1.081762</td>\n",
       "      <td>3.482482</td>\n",
       "      <td>5.2330</td>\n",
       "      <td>0.2528</td>\n",
       "      <td>...</td>\n",
       "      <td>NaN</td>\n",
       "      <td>NaN</td>\n",
       "      <td>NaN</td>\n",
       "      <td>NaN</td>\n",
       "      <td>NaN</td>\n",
       "      <td>NaN</td>\n",
       "      <td>NaN</td>\n",
       "      <td>NaN</td>\n",
       "      <td>NaN</td>\n",
       "      <td>NaN</td>\n",
       "    </tr>\n",
       "  </tbody>\n",
       "</table>\n",
       "<p>5 rows × 41 columns</p>\n",
       "</div>"
      ],
      "text/plain": [
       "         CMWXMMM  CPUSAM  GBPUSD_rate  IDUSAD  ITUSA3CMD  NG_P_WTD  TRUSACOM  \\\n",
       "date                                                                           \n",
       "1850-01      NaN     NaN    23.047528     NaN        NaN       NaN  1.051075   \n",
       "1850-02      NaN     NaN    23.428364     NaN        NaN       NaN  1.055901   \n",
       "1850-03      NaN     NaN    23.360561     NaN        NaN       NaN  1.052282   \n",
       "1850-04      NaN     NaN    23.091783     NaN        NaN       NaN  1.057999   \n",
       "1850-05      NaN     NaN    23.911980     NaN        NaN       NaN  1.081762   \n",
       "\n",
       "         TRUSG10M  USDBEF_rate  USDCAD_rate_gfd  ...  USDCAD_rate_bbg  \\\n",
       "date                                             ...                    \n",
       "1850-01  3.306525       5.2607           0.2581  ...              NaN   \n",
       "1850-02  3.315689       5.2468           0.2568  ...              NaN   \n",
       "1850-03  3.273533       5.2524           0.2568  ...              NaN   \n",
       "1850-04  3.475150       5.2775           0.2555  ...              NaN   \n",
       "1850-05  3.482482       5.2330           0.2528  ...              NaN   \n",
       "\n",
       "         USDNOK_rate_bbg  AUDUSD_rate  USDJPY_rate_bbg  USDCHF_rate_bbg  \\\n",
       "date                                                                      \n",
       "1850-01              NaN          NaN              NaN              NaN   \n",
       "1850-02              NaN          NaN              NaN              NaN   \n",
       "1850-03              NaN          NaN              NaN              NaN   \n",
       "1850-04              NaN          NaN              NaN              NaN   \n",
       "1850-05              NaN          NaN              NaN              NaN   \n",
       "\n",
       "         TBILL3M_idx  EMEQ_idx  ACEQ_idx  CPI1YR_F  CPI10YR_F  \n",
       "date                                                           \n",
       "1850-01          NaN       NaN       NaN       NaN        NaN  \n",
       "1850-02          NaN       NaN       NaN       NaN        NaN  \n",
       "1850-03          NaN       NaN       NaN       NaN        NaN  \n",
       "1850-04          NaN       NaN       NaN       NaN        NaN  \n",
       "1850-05          NaN       NaN       NaN       NaN        NaN  \n",
       "\n",
       "[5 rows x 41 columns]"
      ]
     },
     "metadata": {},
     "output_type": "display_data"
    }
   ],
   "source": [
    "df.head()"
   ]
  },
  {
   "cell_type": "markdown",
   "metadata": {},
   "source": [
    "# 3. Generate base asset indices"
   ]
  },
  {
   "cell_type": "markdown",
   "metadata": {},
   "source": [
    "#### `bf` is a DataFrame of base asset indices where its columns are baset asset indices."
   ]
  },
  {
   "cell_type": "code",
   "execution_count": 42,
   "metadata": {
    "ExecuteTime": {
     "end_time": "2020-04-27T06:31:56.055791Z",
     "start_time": "2020-04-27T06:31:56.048792Z"
    }
   },
   "outputs": [],
   "source": [
    "bf = pd.DataFrame(index = df.index)"
   ]
  },
  {
   "cell_type": "markdown",
   "metadata": {},
   "source": [
    "#### Index names in `gray boxes`"
   ]
  },
  {
   "cell_type": "markdown",
   "metadata": {},
   "source": [
    "### 1) Equities"
   ]
  },
  {
   "cell_type": "markdown",
   "metadata": {},
   "source": [
    "`DMEQ` (Equities): Log returns of an equity index.\n",
    "  - Since January 1970, **DMEQ_idx**: MSCI World in USD.\n",
    "  - Before that date, **_SPXD**: S&P (500)"
   ]
  },
  {
   "cell_type": "markdown",
   "metadata": {},
   "source": [
    "This is less preferred\n",
    "```python\n",
    "np.log(df['close']).diff()```\n",
    "because this breaks when df['close'] is negative."
   ]
  },
  {
   "cell_type": "markdown",
   "metadata": {},
   "source": [
    "#### Take log returns"
   ]
  },
  {
   "cell_type": "code",
   "execution_count": 43,
   "metadata": {
    "ExecuteTime": {
     "end_time": "2020-04-27T06:31:56.090687Z",
     "start_time": "2020-04-27T06:31:56.061756Z"
    }
   },
   "outputs": [],
   "source": [
    "df['DMEQ_recent'] = np.log(df.DMEQ_idx/df.DMEQ_idx.shift(1))\n",
    "df['DMEQ_older'] = np.log(df._SPXD/df._SPXD.shift(1))"
   ]
  },
  {
   "cell_type": "markdown",
   "metadata": {},
   "source": [
    "#### Merge two columns to create `DMEQ`"
   ]
  },
  {
   "cell_type": "code",
   "execution_count": 44,
   "metadata": {
    "ExecuteTime": {
     "end_time": "2020-04-27T06:31:56.098658Z",
     "start_time": "2020-04-27T06:31:56.092673Z"
    }
   },
   "outputs": [],
   "source": [
    "bf['DMEQ'] = df.DMEQ_recent.fillna(df.DMEQ_older)"
   ]
  },
  {
   "cell_type": "markdown",
   "metadata": {},
   "source": [
    "### 2) Treasuries"
   ]
  },
  {
   "cell_type": "markdown",
   "metadata": {},
   "source": [
    "`GLT` (Treasuries): Log returns of a long-term government bond index.\n",
    "  - Since February 1973, **GLT_idx**: Bloomberg Barclays U.S. Treasury Total Return Unhedged USD\n",
    "  - Before that date, **TRUSG10M**: GFD Indices USA 10-year Government Bond Total Return Index."
   ]
  },
  {
   "cell_type": "code",
   "execution_count": 45,
   "metadata": {
    "ExecuteTime": {
     "end_time": "2020-04-27T06:31:56.112619Z",
     "start_time": "2020-04-27T06:31:56.100652Z"
    }
   },
   "outputs": [],
   "source": [
    "df['GLT_recent'] = np.log(df.GLT_idx/df.GLT_idx.shift(1))\n",
    "df['GLT_older'] = np.log(df.TRUSG10M/df.TRUSG10M.shift(1))\n",
    "bf['GLT'] = df.GLT_recent.fillna(df.GLT_older)"
   ]
  },
  {
   "cell_type": "markdown",
   "metadata": {},
   "source": [
    "### 3) Credit"
   ]
  },
  {
   "cell_type": "markdown",
   "metadata": {},
   "source": [
    "`CRE` (Credit): Log returns of Baa-rating index - log returns of Aaa-rating index.\n",
    "  - **CRE_Baa_idx**: Bloomberg Barclays U.S. Credit Baa index vs. **CRE_Aaa_idx**: Bloomberg Barclays U.S. Credit Aaa index since February 1973.\n",
    "  - **_DJCBPD**: Dow Jones Corporate Bond Price Index (new) vs. **TRUSACOM** GFD Indices USA Total Return AAA Corporate Bond Index before that date."
   ]
  },
  {
   "cell_type": "code",
   "execution_count": 46,
   "metadata": {
    "ExecuteTime": {
     "end_time": "2020-04-27T06:31:56.127584Z",
     "start_time": "2020-04-27T06:31:56.114614Z"
    }
   },
   "outputs": [],
   "source": [
    "df['CRE_recent'] = np.log(df.CRE_Baa_idx/df.CRE_Baa_idx.shift(1)) - np.log(df.CRE_Aaa_idx/df.CRE_Aaa_idx.shift(1))\n",
    "df['CRE_older'] = np.log(df._DJCBPD/df._DJCBPD.shift(1)) - np.log(df.TRUSACOM/df.TRUSACOM.shift(1))\n",
    "bf['CRE'] = df.CRE_recent.fillna(df.CRE_older)"
   ]
  },
  {
   "cell_type": "markdown",
   "metadata": {},
   "source": [
    "### 4) Inlfation-Linked Bond"
   ]
  },
  {
   "cell_type": "markdown",
   "metadata": {},
   "source": [
    "`ILB` (Inflation-Linked Bonds): Conceptually it's, a *break-even inflation rate*. It's defined as log returns of government bond index (\"*nominal return*\") - log returns inflation-linked index (\"*real return*\")\n",
    "  - A break-even inflation rate (**BEI**) = rate of returns of nominal bonds - rate of returns of TIPS on the same maturity (10 years in this case).\n",
    "  - **BEI** is believed to be a leading indicator of CPI. Since we will get an `ILB` exposure through TIPS, we are assuming: $$\\textrm{ILB} \\propto \\textrm{BEI}.$$\n",
    "  - Since April 1997, **GLT_idx** Bloomberg Barclays U.S. Treasury Total Return Unhedged USD (\"*nominal return*\") vs. **TIPS_idx**: Log returns of Bloomberg Barclays U.S. TIPS (\"*real return*\").\n",
    "  - From 3Q 1981 to March 1997, averages of U.S. Survey of Professional Forecasters' 1-year forecasted inflation **CPI1YR_F** and 10-year forecasted inflation **CPI10YR_F**. Still, it's a proxy of a break-even inflation rate.\n",
    "    - 1-year forecated inflation above is defined as an average inflation over the four quarters following the quarter when we conducted the survey.\n",
    "    - As the 10-year forcasted inflation is only available since 1991 on an annual basis, an alternative source called *Livingston Survey* is used for an older period of 3Q81 to 4Q90.\n",
    "  - Before that date, log returns of $\\frac{1}{3}($CPI$_{t-1}$ + CPI$_t$ + CPI$_{t+1})$ as a proxy of break-even inflation rate, where CPI is **CPUSAM**: United States BLS Consumer Price *Index* Inflation Rate NSA. We assume this monthly log returns of the index can be a proxy of *nominal return - real return*.\n",
    "    - t-1: one-year ago; t+1: one-year ahead"
   ]
  },
  {
   "cell_type": "code",
   "execution_count": 47,
   "metadata": {
    "ExecuteTime": {
     "end_time": "2020-04-27T06:31:56.135558Z",
     "start_time": "2020-04-27T06:31:56.129574Z"
    }
   },
   "outputs": [
    {
     "data": {
      "text/plain": [
       "Index(['CMWXMMM', 'CPUSAM', 'GBPUSD_rate', 'IDUSAD', 'ITUSA3CMD', 'NG_P_WTD',\n",
       "       'TRUSACOM', 'TRUSG10M', 'USDBEF_rate', 'USDCAD_rate_gfd',\n",
       "       'USDCHF_rate_gfd', 'USDDEM_rate', 'USDFRF_rate', 'USDITL_rate',\n",
       "       'USDJPY_rate_gfd', 'USDNLG_rate', 'USDNOK_rate_gfd', 'USDSEK_rate',\n",
       "       '_DJCBPD', '_SPXD', '__WTC_D', '__XAU_D', 'DMEQ_idx', 'GLT_idx',\n",
       "       'CRE_Baa_idx', 'CRE_Aaa_idx', 'TIPS_idx', 'GOLD_pr', 'INM_idx',\n",
       "       'ENGY_idx', 'DXY_idx', 'USDCAD_rate_bbg', 'USDNOK_rate_bbg',\n",
       "       'AUDUSD_rate', 'USDJPY_rate_bbg', 'USDCHF_rate_bbg', 'TBILL3M_idx',\n",
       "       'EMEQ_idx', 'ACEQ_idx', 'CPI1YR_F', 'CPI10YR_F', 'DMEQ_recent',\n",
       "       'DMEQ_older', 'GLT_recent', 'GLT_older', 'CRE_recent', 'CRE_older'],\n",
       "      dtype='object')"
      ]
     },
     "execution_count": 47,
     "metadata": {},
     "output_type": "execute_result"
    }
   ],
   "source": [
    "df.columns"
   ]
  },
  {
   "cell_type": "code",
   "execution_count": 48,
   "metadata": {
    "ExecuteTime": {
     "end_time": "2020-04-27T06:31:56.146541Z",
     "start_time": "2020-04-27T06:31:56.138555Z"
    }
   },
   "outputs": [
    {
     "data": {
      "text/plain": [
       "date\n",
       "1850-01         NaN\n",
       "1850-02         NaN\n",
       "1850-03         NaN\n",
       "1850-04         NaN\n",
       "1850-05         NaN\n",
       "             ...   \n",
       "2019-11         NaN\n",
       "2019-12    0.760058\n",
       "2020-01         NaN\n",
       "2020-02         NaN\n",
       "2020-03    0.769275\n",
       "Freq: M, Name: CPI1YR_F, Length: 2043, dtype: float64"
      ]
     },
     "execution_count": 48,
     "metadata": {},
     "output_type": "execute_result"
    }
   ],
   "source": [
    "np.log(df.CPI1YR_F)"
   ]
  },
  {
   "cell_type": "code",
   "execution_count": 49,
   "metadata": {
    "ExecuteTime": {
     "end_time": "2020-04-27T06:31:56.158496Z",
     "start_time": "2020-04-27T06:31:56.148522Z"
    }
   },
   "outputs": [],
   "source": [
    "df['ILB_recent'] = np.log(df.GLT_idx/df.GLT_idx.shift(1)) - np.log(df.TIPS_idx/df.TIPS_idx.shift(1))"
   ]
  },
  {
   "cell_type": "markdown",
   "metadata": {},
   "source": [
    "#### Normalize a scale\n",
    "- The scale of `ILB_recent` is $\\ln\\frac{P_1}{P_2}$, where $P_i$ is at an index scale. Putting it as $X$,\n",
    "$$X = \\ln\\frac{P_1}{P_2}$$\n",
    "- Differently, the scale of `ILB_older`, calling it $Y$,\n",
    "$$Y=(\\frac{P_1}{P_2}-1)*100$$\n",
    "- To make $X$ and $Y$ comparable in their scale, a transformation would be done by:\n",
    "$$\\ln\\frac{P_1}{P_2} = \\ln(\\frac{Y}{100}+1)$$\n"
   ]
  },
  {
   "cell_type": "code",
   "execution_count": 53,
   "metadata": {
    "ExecuteTime": {
     "end_time": "2020-04-27T06:33:57.952951Z",
     "start_time": "2020-04-27T06:33:57.700595Z"
    }
   },
   "outputs": [
    {
     "data": {
      "text/plain": [
       "<matplotlib.axes._subplots.AxesSubplot at 0x253e0d4a808>"
      ]
     },
     "execution_count": 53,
     "metadata": {},
     "output_type": "execute_result"
    },
    {
     "data": {
      "image/png": "[encoded data removed]",
      "text/plain": [
       "<Figure size 432x288 with 1 Axes>"
      ]
     },
     "metadata": {
      "needs_background": "light"
     },
     "output_type": "display_data"
    }
   ],
   "source": [
    "df['ILB_recent'].plot()"
   ]
  },
  {
   "cell_type": "code",
   "execution_count": 54,
   "metadata": {
    "ExecuteTime": {
     "end_time": "2020-04-27T06:34:15.423427Z",
     "start_time": "2020-04-27T06:34:15.414444Z"
    }
   },
   "outputs": [
    {
     "data": {
      "text/plain": [
       "date\n",
       "1850-01       NaN\n",
       "1850-02       NaN\n",
       "1850-03       NaN\n",
       "1850-04       NaN\n",
       "1850-05       NaN\n",
       "            ...  \n",
       "2019-11       NaN\n",
       "2019-12    2.1384\n",
       "2020-01       NaN\n",
       "2020-02       NaN\n",
       "2020-03    2.1582\n",
       "Freq: M, Name: CPI1YR_F, Length: 2043, dtype: float64"
      ]
     },
     "execution_count": 54,
     "metadata": {},
     "output_type": "execute_result"
    }
   ],
   "source": [
    "df.CPI1YR_F "
   ]
  },
  {
   "cell_type": "code",
   "execution_count": 50,
   "metadata": {
    "ExecuteTime": {
     "end_time": "2020-04-27T06:33:36.169238Z",
     "start_time": "2020-04-27T06:33:36.157270Z"
    }
   },
   "outputs": [],
   "source": [
    "df['ILB_older'] = 0.5*(df.CPI1YR_F + df.CPI10YR_F)\n",
    "df['ILB_older'] = df.loc[df.ILB_older.first_valid_index():,'ILB_older'].fillna(method='ffill')\n",
    "df['ILB_older'] = np.log(df.ILB_older/100+1) - np.log(df.ILB_older.shift(1)/100+1)"
   ]
  },
  {
   "cell_type": "code",
   "execution_count": 52,
   "metadata": {
    "ExecuteTime": {
     "end_time": "2020-04-27T06:33:48.352576Z",
     "start_time": "2020-04-27T06:33:48.108231Z"
    }
   },
   "outputs": [
    {
     "data": {
      "text/plain": [
       "<matplotlib.axes._subplots.AxesSubplot at 0x253e0c9f308>"
      ]
     },
     "execution_count": 52,
     "metadata": {},
     "output_type": "execute_result"
    },
    {
     "data": {
      "image/png": "[encoded data removed]",
      "text/plain": [
       "<Figure size 432x288 with 1 Axes>"
      ]
     },
     "metadata": {
      "needs_background": "light"
     },
     "output_type": "display_data"
    }
   ],
   "source": [
    "df['ILB_older'].plot()"
   ]
  },
  {
   "cell_type": "code",
   "execution_count": 51,
   "metadata": {
    "ExecuteTime": {
     "end_time": "2020-04-27T05:09:44.438562Z",
     "start_time": "2020-04-27T05:09:44.431554Z"
    }
   },
   "outputs": [],
   "source": [
    "# Centered moving average for timestamps (t-1, t, t+1).\n",
    "df['ILB_oldest'] = df.loc[df.CPUSAM.first_valid_index():, 'CPUSAM'].fillna(method='ffill').rolling(window=3, center=True).mean()"
   ]
  },
  {
   "cell_type": "code",
   "execution_count": null,
   "metadata": {},
   "outputs": [],
   "source": []
  },
  {
   "cell_type": "code",
   "execution_count": 82,
   "metadata": {
    "ExecuteTime": {
     "end_time": "2020-04-27T06:24:45.972983Z",
     "start_time": "2020-04-27T06:24:45.961044Z"
    },
    "scrolled": true
   },
   "outputs": [],
   "source": [
    "df['ILB_oldest'] = df.loc[df.ILB_oldest.first_valid_index():, 'CPUSAM']\n",
    "df['ILB_oldest'] = (\n",
    "    np.log(df.ILB_oldest.shift(12) / df.ILB_oldest.shift(13)) +\n",
    "    np.log(df.ILB_oldest / df.ILB_oldest.shift(1)) +\n",
    "    np.log(df.ILB_oldest.shift(-12) / df.ILB_oldest.shift(-11))) / 3"
   ]
  },
  {
   "cell_type": "code",
   "execution_count": 83,
   "metadata": {
    "ExecuteTime": {
     "end_time": "2020-04-27T06:24:53.248943Z",
     "start_time": "2020-04-27T06:24:53.008576Z"
    }
   },
   "outputs": [
    {
     "data": {
      "text/plain": [
       "<matplotlib.axes._subplots.AxesSubplot at 0x1d74c3cc888>"
      ]
     },
     "execution_count": 83,
     "metadata": {},
     "output_type": "execute_result"
    },
    {
     "data": {
      "image/png": "[encoded data removed]",
      "text/plain": [
       "<Figure size 432x288 with 1 Axes>"
      ]
     },
     "metadata": {
      "needs_background": "light"
     },
     "output_type": "display_data"
    }
   ],
   "source": [
    "df.ILB_oldest.plot()"
   ]
  },
  {
   "cell_type": "code",
   "execution_count": null,
   "metadata": {},
   "outputs": [],
   "source": []
  },
  {
   "cell_type": "code",
   "execution_count": null,
   "metadata": {},
   "outputs": [],
   "source": []
  },
  {
   "cell_type": "markdown",
   "metadata": {},
   "source": [
    "#### We assume a log return of centered moving averages of CPI (an index, not rate) is equivalent to a log return (reward) you can expect from bearing a surprise in inflation."
   ]
  },
  {
   "cell_type": "code",
   "execution_count": 52,
   "metadata": {
    "ExecuteTime": {
     "end_time": "2020-04-27T05:09:45.450820Z",
     "start_time": "2020-04-27T05:09:45.446858Z"
    }
   },
   "outputs": [],
   "source": [
    "df['ILB_oldest'] = np.log(df.ILB_oldest/df.ILB_oldest.shift(1))"
   ]
  },
  {
   "cell_type": "code",
   "execution_count": null,
   "metadata": {},
   "outputs": [],
   "source": []
  },
  {
   "cell_type": "code",
   "execution_count": 53,
   "metadata": {
    "ExecuteTime": {
     "end_time": "2020-04-27T05:09:46.029279Z",
     "start_time": "2020-04-27T05:09:46.024281Z"
    }
   },
   "outputs": [],
   "source": [
    "bf['ILB'] = df.ILB_recent.fillna(df.ILB_older)"
   ]
  },
  {
   "cell_type": "code",
   "execution_count": 54,
   "metadata": {
    "ExecuteTime": {
     "end_time": "2020-04-27T05:09:47.724015Z",
     "start_time": "2020-04-27T05:09:47.527543Z"
    }
   },
   "outputs": [
    {
     "data": {
      "text/plain": [
       "<matplotlib.axes._subplots.AxesSubplot at 0x1d74714b508>"
      ]
     },
     "execution_count": 54,
     "metadata": {},
     "output_type": "execute_result"
    },
    {
     "data": {
      "image/png": "[encoded data removed]",
      "text/plain": [
       "<Figure size 432x288 with 1 Axes>"
      ]
     },
     "metadata": {
      "needs_background": "light"
     },
     "output_type": "display_data"
    }
   ],
   "source": [
    "df['ILB_recent'].dropna().plot()"
   ]
  },
  {
   "cell_type": "code",
   "execution_count": 55,
   "metadata": {
    "ExecuteTime": {
     "end_time": "2020-04-27T05:09:48.545811Z",
     "start_time": "2020-04-27T05:09:48.302465Z"
    }
   },
   "outputs": [
    {
     "data": {
      "text/plain": [
       "<matplotlib.axes._subplots.AxesSubplot at 0x1d7471dbd88>"
      ]
     },
     "execution_count": 55,
     "metadata": {},
     "output_type": "execute_result"
    },
    {
     "data": {
      "image/png": "[encoded data removed]",
      "text/plain": [
       "<Figure size 432x288 with 1 Axes>"
      ]
     },
     "metadata": {
      "needs_background": "light"
     },
     "output_type": "display_data"
    }
   ],
   "source": [
    "df.ILB_older.dropna().plot()"
   ]
  },
  {
   "cell_type": "code",
   "execution_count": 56,
   "metadata": {
    "ExecuteTime": {
     "end_time": "2020-04-27T05:09:51.639493Z",
     "start_time": "2020-04-27T05:09:51.400162Z"
    }
   },
   "outputs": [
    {
     "data": {
      "text/plain": [
       "<matplotlib.axes._subplots.AxesSubplot at 0x1d74709ccc8>"
      ]
     },
     "execution_count": 56,
     "metadata": {},
     "output_type": "execute_result"
    },
    {
     "data": {
      "image/png": "[encoded data removed]",
      "text/plain": [
       "<Figure size 432x288 with 1 Axes>"
      ]
     },
     "metadata": {
      "needs_background": "light"
     },
     "output_type": "display_data"
    }
   ],
   "source": [
    "df.CPI1YR_F.dropna().plot()"
   ]
  },
  {
   "cell_type": "code",
   "execution_count": 57,
   "metadata": {
    "ExecuteTime": {
     "end_time": "2020-04-27T05:09:53.787088Z",
     "start_time": "2020-04-27T05:09:53.559698Z"
    }
   },
   "outputs": [
    {
     "data": {
      "text/plain": [
       "<matplotlib.axes._subplots.AxesSubplot at 0x1d747363608>"
      ]
     },
     "execution_count": 57,
     "metadata": {},
     "output_type": "execute_result"
    },
    {
     "data": {
      "image/png": "[encoded data removed]",
      "text/plain": [
       "<Figure size 432x288 with 1 Axes>"
      ]
     },
     "metadata": {
      "needs_background": "light"
     },
     "output_type": "display_data"
    }
   ],
   "source": [
    "df.ILB_oldest.plot()"
   ]
  },
  {
   "cell_type": "code",
   "execution_count": 65,
   "metadata": {
    "ExecuteTime": {
     "end_time": "2020-04-27T05:16:14.419559Z",
     "start_time": "2020-04-27T05:16:14.411581Z"
    }
   },
   "outputs": [
    {
     "data": {
      "text/plain": [
       "date\n",
       "1997-04    0.008135\n",
       "1997-05    0.003201\n",
       "1997-06    0.014272\n",
       "1997-07    0.018812\n",
       "1997-08   -0.013217\n",
       "             ...   \n",
       "2019-11   -0.004536\n",
       "2019-12   -0.009414\n",
       "2020-01    0.003364\n",
       "2020-02    0.012416\n",
       "2020-03    0.046251\n",
       "Freq: M, Name: ILB_recent, Length: 276, dtype: float64"
      ]
     },
     "execution_count": 65,
     "metadata": {},
     "output_type": "execute_result"
    }
   ],
   "source": [
    "df.ILB_recent.dropna()"
   ]
  },
  {
   "cell_type": "code",
   "execution_count": 61,
   "metadata": {
    "ExecuteTime": {
     "end_time": "2020-04-27T05:15:19.014530Z",
     "start_time": "2020-04-27T05:15:19.006550Z"
    }
   },
   "outputs": [
    {
     "data": {
      "text/plain": [
       "date\n",
       "1997-04    0.001042\n",
       "1997-05    0.000624\n",
       "1997-06    0.000624\n",
       "1997-07    0.001455\n",
       "1997-08    0.001867\n",
       "             ...   \n",
       "2019-11    0.000279\n",
       "2019-12    0.000810\n",
       "2020-01    0.001902\n",
       "2020-02    0.001474\n",
       "2020-03         NaN\n",
       "Freq: M, Name: ILB_oldest, Length: 276, dtype: float64"
      ]
     },
     "execution_count": 61,
     "metadata": {},
     "output_type": "execute_result"
    }
   ],
   "source": [
    "df.ILB_oldest[df.ILB_recent.first_valid_index():]"
   ]
  },
  {
   "cell_type": "code",
   "execution_count": 84,
   "metadata": {
    "ExecuteTime": {
     "end_time": "2020-04-27T06:25:04.849942Z",
     "start_time": "2020-04-27T06:25:04.842963Z"
    }
   },
   "outputs": [],
   "source": [
    "comp = df.loc[df.ILB_recent.dropna().index, ['ILB_recent', 'ILB_older', 'ILB_oldest']]"
   ]
  },
  {
   "cell_type": "code",
   "execution_count": 85,
   "metadata": {
    "ExecuteTime": {
     "end_time": "2020-04-27T06:25:05.327662Z",
     "start_time": "2020-04-27T06:25:05.168090Z"
    }
   },
   "outputs": [
    {
     "data": {
      "application/vnd.jupyter.widget-view+json": {
       "model_id": "4e64406f742745dbb9a7f34f44b00e4e"
      },
      "text/html": [
       "<div>\n",
       "<style scoped>\n",
       "    .dataframe tbody tr th:only-of-type {\n",
       "        vertical-align: middle;\n",
       "    }\n",
       "\n",
       "    .dataframe tbody tr th {\n",
       "        vertical-align: top;\n",
       "    }\n",
       "\n",
       "    .dataframe thead th {\n",
       "        text-align: right;\n",
       "    }\n",
       "</style>\n",
       "<table border=\"1\" class=\"dataframe\">\n",
       "  <thead>\n",
       "    <tr style=\"text-align: right;\">\n",
       "      <th></th>\n",
       "      <th>ILB_recent</th>\n",
       "      <th>ILB_older</th>\n",
       "      <th>ILB_oldest</th>\n",
       "    </tr>\n",
       "    <tr>\n",
       "      <th>date</th>\n",
       "      <th></th>\n",
       "      <th></th>\n",
       "      <th></th>\n",
       "    </tr>\n",
       "  </thead>\n",
       "  <tbody>\n",
       "    <tr>\n",
       "      <th>1997-04</th>\n",
       "      <td>0.008135</td>\n",
       "      <td>0.000000</td>\n",
       "      <td>0.002314</td>\n",
       "    </tr>\n",
       "    <tr>\n",
       "      <th>1997-05</th>\n",
       "      <td>0.003201</td>\n",
       "      <td>0.000000</td>\n",
       "      <td>0.001046</td>\n",
       "    </tr>\n",
       "    <tr>\n",
       "      <th>1997-06</th>\n",
       "      <td>0.014272</td>\n",
       "      <td>-0.001032</td>\n",
       "      <td>0.001038</td>\n",
       "    </tr>\n",
       "    <tr>\n",
       "      <th>1997-07</th>\n",
       "      <td>0.018812</td>\n",
       "      <td>0.000000</td>\n",
       "      <td>0.001462</td>\n",
       "    </tr>\n",
       "    <tr>\n",
       "      <th>1997-08</th>\n",
       "      <td>-0.013217</td>\n",
       "      <td>0.000000</td>\n",
       "      <td>0.001667</td>\n",
       "    </tr>\n",
       "    <tr>\n",
       "      <th>...</th>\n",
       "      <td>...</td>\n",
       "      <td>...</td>\n",
       "      <td>...</td>\n",
       "    </tr>\n",
       "    <tr>\n",
       "      <th>2019-11</th>\n",
       "      <td>-0.004536</td>\n",
       "      <td>0.000000</td>\n",
       "      <td>NaN</td>\n",
       "    </tr>\n",
       "    <tr>\n",
       "      <th>2019-12</th>\n",
       "      <td>-0.009414</td>\n",
       "      <td>0.000497</td>\n",
       "      <td>NaN</td>\n",
       "    </tr>\n",
       "    <tr>\n",
       "      <th>2020-01</th>\n",
       "      <td>0.003364</td>\n",
       "      <td>0.000000</td>\n",
       "      <td>NaN</td>\n",
       "    </tr>\n",
       "    <tr>\n",
       "      <th>2020-02</th>\n",
       "      <td>0.012416</td>\n",
       "      <td>0.000000</td>\n",
       "      <td>NaN</td>\n",
       "    </tr>\n",
       "    <tr>\n",
       "      <th>2020-03</th>\n",
       "      <td>0.046251</td>\n",
       "      <td>0.000097</td>\n",
       "      <td>NaN</td>\n",
       "    </tr>\n",
       "  </tbody>\n",
       "</table>\n",
       "<p>276 rows × 3 columns</p>\n",
       "</div>"
      ],
      "text/plain": [
       "         ILB_recent  ILB_older  ILB_oldest\n",
       "date                                      \n",
       "1997-04    0.008135   0.000000    0.002314\n",
       "1997-05    0.003201   0.000000    0.001046\n",
       "1997-06    0.014272  -0.001032    0.001038\n",
       "1997-07    0.018812   0.000000    0.001462\n",
       "1997-08   -0.013217   0.000000    0.001667\n",
       "...             ...        ...         ...\n",
       "2019-11   -0.004536   0.000000         NaN\n",
       "2019-12   -0.009414   0.000497         NaN\n",
       "2020-01    0.003364   0.000000         NaN\n",
       "2020-02    0.012416   0.000000         NaN\n",
       "2020-03    0.046251   0.000097         NaN\n",
       "\n",
       "[276 rows x 3 columns]"
      ]
     },
     "metadata": {},
     "output_type": "display_data"
    }
   ],
   "source": [
    "comp\n",
    "# bamboolib live code export\n",
    "comp = comp.reset_index()\n",
    "comp"
   ]
  },
  {
   "cell_type": "code",
   "execution_count": null,
   "metadata": {},
   "outputs": [],
   "source": []
  },
  {
   "cell_type": "code",
   "execution_count": null,
   "metadata": {},
   "outputs": [],
   "source": []
  },
  {
   "cell_type": "code",
   "execution_count": null,
   "metadata": {},
   "outputs": [],
   "source": []
  },
  {
   "cell_type": "markdown",
   "metadata": {},
   "source": [
    "  \n",
    "  \n",
    "5. `GOLD` (Gold): Log returns of gold prices.\n",
    "  - **GOLD** : Gold (USD/ounce)\n",
    "  \n",
    "  \n",
    "6. `INM` (Industrial Metals): Log returns of industrial metals index.\n",
    "  - Since February 1977, **INM_idx**: S&P GSCI Industrial Metals.\n",
    "  - Before that date, **CMWXMMM**: World Bank Metals and Minerals Commodity Price Index.\n",
    "  \n",
    "  \n",
    "7. `ENGR` (Energy commodity)\n",
    "  - Since February 1983, **ENGY_idx**: S&P GSCI Energy.\n",
    "  - Before that date, an equally-weighted basket of **__WTC_D**: Crude Oil and **NG_P_WTD** Natural Gas.\n",
    "  \n",
    "  \n",
    "8. `DXY` (U.S. Dollar)\n",
    "  - Since February 1967, **DXY_idx**: U.S. Dollar Index\n",
    "  - Before that date, an equally-weighted basket of G-10 currencies.\n",
    "  \n",
    "  \n",
    "9. `FXCS` (Commodity vs. safe haven currencies)\n",
    "  - Since January 1987, an equally-weighted basket of USDCAD, USDNOK and AUDUSD vs USDCHF and USDJPY.\n",
    "  - Since January 1980, USDJPY is excluded from what's above.\n",
    "  - Before that date, USDNOK is further excluded from what's above."
   ]
  },
  {
   "cell_type": "code",
   "execution_count": 40,
   "metadata": {
    "ExecuteTime": {
     "end_time": "2020-04-24T04:56:50.717387Z",
     "start_time": "2020-04-24T04:56:50.709407Z"
    }
   },
   "outputs": [
    {
     "data": {
      "text/plain": [
       "date\n",
       "1959-12          NaN\n",
       "1960-01          NaN\n",
       "1960-02          NaN\n",
       "1960-03          NaN\n",
       "1960-04          NaN\n",
       "             ...    \n",
       "2019-11   -2066.9561\n",
       "2019-12   -2052.3773\n",
       "2020-01   -2103.6229\n",
       "2020-02   -2163.4876\n",
       "2020-03   -2241.3439\n",
       "Freq: M, Length: 724, dtype: float64"
      ]
     },
     "execution_count": 40,
     "metadata": {},
     "output_type": "execute_result"
    }
   ],
   "source": [
    "df_bbg.TIPS_idx - df_bbg.GLT_idx"
   ]
  },
  {
   "cell_type": "code",
   "execution_count": null,
   "metadata": {},
   "outputs": [],
   "source": []
  },
  {
   "cell_type": "code",
   "execution_count": 41,
   "metadata": {
    "ExecuteTime": {
     "end_time": "2020-04-24T04:56:50.859005Z",
     "start_time": "2020-04-24T04:56:50.720379Z"
    }
   },
   "outputs": [
    {
     "data": {
      "application/vnd.jupyter.widget-view+json": {
       "model_id": "9dc29f9a9b9444e1b903f6594c0eb79f"
      },
      "text/html": [
       "<div>\n",
       "<style scoped>\n",
       "    .dataframe tbody tr th:only-of-type {\n",
       "        vertical-align: middle;\n",
       "    }\n",
       "\n",
       "    .dataframe tbody tr th {\n",
       "        vertical-align: top;\n",
       "    }\n",
       "\n",
       "    .dataframe thead th {\n",
       "        text-align: right;\n",
       "    }\n",
       "</style>\n",
       "<table border=\"1\" class=\"dataframe\">\n",
       "  <thead>\n",
       "    <tr style=\"text-align: right;\">\n",
       "      <th></th>\n",
       "      <th>Date</th>\n",
       "      <th>CMWXMMM</th>\n",
       "      <th>CPUSAM</th>\n",
       "      <th>GBPUSD_rate</th>\n",
       "      <th>IDUSAD</th>\n",
       "      <th>ITUSA3CMD</th>\n",
       "      <th>NG_P_WTD</th>\n",
       "      <th>TRUSACOM</th>\n",
       "      <th>TRUSG10M</th>\n",
       "      <th>USDBEF_rate</th>\n",
       "      <th>...</th>\n",
       "      <th>EMEQ_idx</th>\n",
       "      <th>ACEQ_idx</th>\n",
       "      <th>DMEQ_recent</th>\n",
       "      <th>DMEQ_older</th>\n",
       "      <th>GLT_recent</th>\n",
       "      <th>GLT_older</th>\n",
       "      <th>CRE_recent</th>\n",
       "      <th>CRE_older</th>\n",
       "      <th>ILB_recent</th>\n",
       "      <th>ILB_older</th>\n",
       "    </tr>\n",
       "  </thead>\n",
       "  <tbody>\n",
       "    <tr>\n",
       "      <th>0</th>\n",
       "      <td>1850-01</td>\n",
       "      <td>NaN</td>\n",
       "      <td>NaN</td>\n",
       "      <td>23.047528</td>\n",
       "      <td>NaN</td>\n",
       "      <td>NaN</td>\n",
       "      <td>NaN</td>\n",
       "      <td>1.051075</td>\n",
       "      <td>3.306525</td>\n",
       "      <td>5.2607</td>\n",
       "      <td>...</td>\n",
       "      <td>NaN</td>\n",
       "      <td>NaN</td>\n",
       "      <td>NaN</td>\n",
       "      <td>NaN</td>\n",
       "      <td>NaN</td>\n",
       "      <td>NaN</td>\n",
       "      <td>NaN</td>\n",
       "      <td>NaN</td>\n",
       "      <td>NaN</td>\n",
       "      <td>NaN</td>\n",
       "    </tr>\n",
       "    <tr>\n",
       "      <th>1</th>\n",
       "      <td>1850-02</td>\n",
       "      <td>NaN</td>\n",
       "      <td>NaN</td>\n",
       "      <td>23.428364</td>\n",
       "      <td>NaN</td>\n",
       "      <td>NaN</td>\n",
       "      <td>NaN</td>\n",
       "      <td>1.055901</td>\n",
       "      <td>3.315689</td>\n",
       "      <td>5.2468</td>\n",
       "      <td>...</td>\n",
       "      <td>NaN</td>\n",
       "      <td>NaN</td>\n",
       "      <td>NaN</td>\n",
       "      <td>NaN</td>\n",
       "      <td>NaN</td>\n",
       "      <td>0.002768</td>\n",
       "      <td>NaN</td>\n",
       "      <td>NaN</td>\n",
       "      <td>NaN</td>\n",
       "      <td>NaN</td>\n",
       "    </tr>\n",
       "    <tr>\n",
       "      <th>2</th>\n",
       "      <td>1850-03</td>\n",
       "      <td>NaN</td>\n",
       "      <td>NaN</td>\n",
       "      <td>23.360561</td>\n",
       "      <td>NaN</td>\n",
       "      <td>NaN</td>\n",
       "      <td>NaN</td>\n",
       "      <td>1.052282</td>\n",
       "      <td>3.273533</td>\n",
       "      <td>5.2524</td>\n",
       "      <td>...</td>\n",
       "      <td>NaN</td>\n",
       "      <td>NaN</td>\n",
       "      <td>NaN</td>\n",
       "      <td>NaN</td>\n",
       "      <td>NaN</td>\n",
       "      <td>-0.012796</td>\n",
       "      <td>NaN</td>\n",
       "      <td>NaN</td>\n",
       "      <td>NaN</td>\n",
       "      <td>NaN</td>\n",
       "    </tr>\n",
       "    <tr>\n",
       "      <th>3</th>\n",
       "      <td>1850-04</td>\n",
       "      <td>NaN</td>\n",
       "      <td>NaN</td>\n",
       "      <td>23.091783</td>\n",
       "      <td>NaN</td>\n",
       "      <td>NaN</td>\n",
       "      <td>NaN</td>\n",
       "      <td>1.057999</td>\n",
       "      <td>3.475150</td>\n",
       "      <td>5.2775</td>\n",
       "      <td>...</td>\n",
       "      <td>NaN</td>\n",
       "      <td>NaN</td>\n",
       "      <td>NaN</td>\n",
       "      <td>NaN</td>\n",
       "      <td>NaN</td>\n",
       "      <td>0.059768</td>\n",
       "      <td>NaN</td>\n",
       "      <td>NaN</td>\n",
       "      <td>NaN</td>\n",
       "      <td>NaN</td>\n",
       "    </tr>\n",
       "    <tr>\n",
       "      <th>4</th>\n",
       "      <td>1850-05</td>\n",
       "      <td>NaN</td>\n",
       "      <td>NaN</td>\n",
       "      <td>23.911980</td>\n",
       "      <td>NaN</td>\n",
       "      <td>NaN</td>\n",
       "      <td>NaN</td>\n",
       "      <td>1.081762</td>\n",
       "      <td>3.482482</td>\n",
       "      <td>5.2330</td>\n",
       "      <td>...</td>\n",
       "      <td>NaN</td>\n",
       "      <td>NaN</td>\n",
       "      <td>NaN</td>\n",
       "      <td>NaN</td>\n",
       "      <td>NaN</td>\n",
       "      <td>0.002107</td>\n",
       "      <td>NaN</td>\n",
       "      <td>NaN</td>\n",
       "      <td>NaN</td>\n",
       "      <td>NaN</td>\n",
       "    </tr>\n",
       "    <tr>\n",
       "      <th>...</th>\n",
       "      <td>...</td>\n",
       "      <td>...</td>\n",
       "      <td>...</td>\n",
       "      <td>...</td>\n",
       "      <td>...</td>\n",
       "      <td>...</td>\n",
       "      <td>...</td>\n",
       "      <td>...</td>\n",
       "      <td>...</td>\n",
       "      <td>...</td>\n",
       "      <td>...</td>\n",
       "      <td>...</td>\n",
       "      <td>...</td>\n",
       "      <td>...</td>\n",
       "      <td>...</td>\n",
       "      <td>...</td>\n",
       "      <td>...</td>\n",
       "      <td>...</td>\n",
       "      <td>...</td>\n",
       "      <td>...</td>\n",
       "      <td>...</td>\n",
       "    </tr>\n",
       "    <tr>\n",
       "      <th>2038</th>\n",
       "      <td>2019-11</td>\n",
       "      <td>76.215305</td>\n",
       "      <td>257.208</td>\n",
       "      <td>1.672875</td>\n",
       "      <td>NaN</td>\n",
       "      <td>1.59</td>\n",
       "      <td>NaN</td>\n",
       "      <td>24038.670000</td>\n",
       "      <td>10953.936305</td>\n",
       "      <td>0.9079</td>\n",
       "      <td>...</td>\n",
       "      <td>1040.05</td>\n",
       "      <td>546.70</td>\n",
       "      <td>0.025955</td>\n",
       "      <td>0.033480</td>\n",
       "      <td>-0.003012</td>\n",
       "      <td>-0.002955</td>\n",
       "      <td>0.004164</td>\n",
       "      <td>-0.004744</td>\n",
       "      <td>0.004536</td>\n",
       "      <td>-0.004744</td>\n",
       "    </tr>\n",
       "    <tr>\n",
       "      <th>2039</th>\n",
       "      <td>2019-12</td>\n",
       "      <td>77.469997</td>\n",
       "      <td>256.974</td>\n",
       "      <td>1.759655</td>\n",
       "      <td>NaN</td>\n",
       "      <td>1.55</td>\n",
       "      <td>NaN</td>\n",
       "      <td>23920.300000</td>\n",
       "      <td>10836.125049</td>\n",
       "      <td>0.8917</td>\n",
       "      <td>...</td>\n",
       "      <td>1114.66</td>\n",
       "      <td>565.24</td>\n",
       "      <td>0.028475</td>\n",
       "      <td>0.028189</td>\n",
       "      <td>-0.005630</td>\n",
       "      <td>-0.010813</td>\n",
       "      <td>0.007146</td>\n",
       "      <td>0.003983</td>\n",
       "      <td>0.009414</td>\n",
       "      <td>0.003983</td>\n",
       "    </tr>\n",
       "    <tr>\n",
       "      <th>2040</th>\n",
       "      <td>2020-01</td>\n",
       "      <td>77.702232</td>\n",
       "      <td>257.971</td>\n",
       "      <td>1.742672</td>\n",
       "      <td>NaN</td>\n",
       "      <td>1.55</td>\n",
       "      <td>NaN</td>\n",
       "      <td>24418.540000</td>\n",
       "      <td>11252.031439</td>\n",
       "      <td>0.9013</td>\n",
       "      <td>...</td>\n",
       "      <td>1062.34</td>\n",
       "      <td>558.62</td>\n",
       "      <td>-0.006833</td>\n",
       "      <td>-0.001629</td>\n",
       "      <td>0.024143</td>\n",
       "      <td>0.037663</td>\n",
       "      <td>0.006421</td>\n",
       "      <td>0.000854</td>\n",
       "      <td>-0.003364</td>\n",
       "      <td>0.000854</td>\n",
       "    </tr>\n",
       "    <tr>\n",
       "      <th>2041</th>\n",
       "      <td>2020-02</td>\n",
       "      <td>73.015869</td>\n",
       "      <td>258.678</td>\n",
       "      <td>1.643800</td>\n",
       "      <td>NaN</td>\n",
       "      <td>1.27</td>\n",
       "      <td>NaN</td>\n",
       "      <td>24727.670000</td>\n",
       "      <td>11666.405078</td>\n",
       "      <td>0.9069</td>\n",
       "      <td>...</td>\n",
       "      <td>1005.52</td>\n",
       "      <td>512.76</td>\n",
       "      <td>-0.089851</td>\n",
       "      <td>-0.087860</td>\n",
       "      <td>0.026161</td>\n",
       "      <td>0.036165</td>\n",
       "      <td>-0.007678</td>\n",
       "      <td>-0.004438</td>\n",
       "      <td>-0.012416</td>\n",
       "      <td>-0.004438</td>\n",
       "    </tr>\n",
       "    <tr>\n",
       "      <th>2042</th>\n",
       "      <td>2020-03</td>\n",
       "      <td>68.706871</td>\n",
       "      <td>258.115</td>\n",
       "      <td>1.542226</td>\n",
       "      <td>NaN</td>\n",
       "      <td>0.11</td>\n",
       "      <td>NaN</td>\n",
       "      <td>24260.990000</td>\n",
       "      <td>12149.672430</td>\n",
       "      <td>0.9065</td>\n",
       "      <td>...</td>\n",
       "      <td>848.58</td>\n",
       "      <td>442.35</td>\n",
       "      <td>-0.144669</td>\n",
       "      <td>-0.133668</td>\n",
       "      <td>0.028514</td>\n",
       "      <td>0.040589</td>\n",
       "      <td>-0.114374</td>\n",
       "      <td>-0.034328</td>\n",
       "      <td>-0.046251</td>\n",
       "      <td>-0.034328</td>\n",
       "    </tr>\n",
       "  </tbody>\n",
       "</table>\n",
       "<p>2043 rows × 48 columns</p>\n",
       "</div>"
      ],
      "text/plain": [
       "         Date    CMWXMMM   CPUSAM  GBPUSD_rate  IDUSAD  ITUSA3CMD  NG_P_WTD  \\\n",
       "0     1850-01        NaN      NaN    23.047528     NaN        NaN       NaN   \n",
       "1     1850-02        NaN      NaN    23.428364     NaN        NaN       NaN   \n",
       "2     1850-03        NaN      NaN    23.360561     NaN        NaN       NaN   \n",
       "3     1850-04        NaN      NaN    23.091783     NaN        NaN       NaN   \n",
       "4     1850-05        NaN      NaN    23.911980     NaN        NaN       NaN   \n",
       "...       ...        ...      ...          ...     ...        ...       ...   \n",
       "2038  2019-11  76.215305  257.208     1.672875     NaN       1.59       NaN   \n",
       "2039  2019-12  77.469997  256.974     1.759655     NaN       1.55       NaN   \n",
       "2040  2020-01  77.702232  257.971     1.742672     NaN       1.55       NaN   \n",
       "2041  2020-02  73.015869  258.678     1.643800     NaN       1.27       NaN   \n",
       "2042  2020-03  68.706871  258.115     1.542226     NaN       0.11       NaN   \n",
       "\n",
       "          TRUSACOM      TRUSG10M  USDBEF_rate  ...  EMEQ_idx  ACEQ_idx  \\\n",
       "0         1.051075      3.306525       5.2607  ...       NaN       NaN   \n",
       "1         1.055901      3.315689       5.2468  ...       NaN       NaN   \n",
       "2         1.052282      3.273533       5.2524  ...       NaN       NaN   \n",
       "3         1.057999      3.475150       5.2775  ...       NaN       NaN   \n",
       "4         1.081762      3.482482       5.2330  ...       NaN       NaN   \n",
       "...            ...           ...          ...  ...       ...       ...   \n",
       "2038  24038.670000  10953.936305       0.9079  ...   1040.05    546.70   \n",
       "2039  23920.300000  10836.125049       0.8917  ...   1114.66    565.24   \n",
       "2040  24418.540000  11252.031439       0.9013  ...   1062.34    558.62   \n",
       "2041  24727.670000  11666.405078       0.9069  ...   1005.52    512.76   \n",
       "2042  24260.990000  12149.672430       0.9065  ...    848.58    442.35   \n",
       "\n",
       "      DMEQ_recent  DMEQ_older  GLT_recent  GLT_older  CRE_recent  CRE_older  \\\n",
       "0             NaN         NaN         NaN        NaN         NaN        NaN   \n",
       "1             NaN         NaN         NaN   0.002768         NaN        NaN   \n",
       "2             NaN         NaN         NaN  -0.012796         NaN        NaN   \n",
       "3             NaN         NaN         NaN   0.059768         NaN        NaN   \n",
       "4             NaN         NaN         NaN   0.002107         NaN        NaN   \n",
       "...           ...         ...         ...        ...         ...        ...   \n",
       "2038     0.025955    0.033480   -0.003012  -0.002955    0.004164  -0.004744   \n",
       "2039     0.028475    0.028189   -0.005630  -0.010813    0.007146   0.003983   \n",
       "2040    -0.006833   -0.001629    0.024143   0.037663    0.006421   0.000854   \n",
       "2041    -0.089851   -0.087860    0.026161   0.036165   -0.007678  -0.004438   \n",
       "2042    -0.144669   -0.133668    0.028514   0.040589   -0.114374  -0.034328   \n",
       "\n",
       "      ILB_recent  ILB_older  \n",
       "0            NaN        NaN  \n",
       "1            NaN        NaN  \n",
       "2            NaN        NaN  \n",
       "3            NaN        NaN  \n",
       "4            NaN        NaN  \n",
       "...          ...        ...  \n",
       "2038    0.004536  -0.004744  \n",
       "2039    0.009414   0.003983  \n",
       "2040   -0.003364   0.000854  \n",
       "2041   -0.012416  -0.004438  \n",
       "2042   -0.046251  -0.034328  \n",
       "\n",
       "[2043 rows x 48 columns]"
      ]
     },
     "metadata": {},
     "output_type": "display_data"
    }
   ],
   "source": [
    "df\n",
    "# bamboolib live code export\n",
    "df = df.reset_index()\n",
    "df"
   ]
  },
  {
   "cell_type": "code",
   "execution_count": null,
   "metadata": {},
   "outputs": [],
   "source": []
  },
  {
   "cell_type": "code",
   "execution_count": null,
   "metadata": {},
   "outputs": [],
   "source": []
  },
  {
   "cell_type": "code",
   "execution_count": null,
   "metadata": {},
   "outputs": [],
   "source": []
  },
  {
   "cell_type": "code",
   "execution_count": null,
   "metadata": {},
   "outputs": [],
   "source": []
  }
 ],
 "metadata": {
  "kernelspec": {
   "display_name": "Python 3",
   "language": "python",
   "name": "python3"
  },
  "language_info": {
   "codemirror_mode": {
    "name": "ipython",
    "version": 3
   },
   "file_extension": ".py",
   "mimetype": "text/x-python",
   "name": "python",
   "nbconvert_exporter": "python",
   "pygments_lexer": "ipython3",
   "version": "3.7.7"
  },
  "latex_envs": {
   "LaTeX_envs_menu_present": true,
   "autoclose": false,
   "autocomplete": true,
   "bibliofile": "biblio.bib",
   "cite_by": "apalike",
   "current_citInitial": 1,
   "eqLabelWithNumbers": true,
   "eqNumInitial": 1,
   "hotkeys": {
    "equation": "Ctrl-E",
    "itemize": "Ctrl-I"
   },
   "labels_anchors": false,
   "latex_user_defs": false,
   "report_style_numbering": false,
   "user_envs_cfg": false
  }
 },
 "nbformat": 4,
 "nbformat_minor": 4
}
